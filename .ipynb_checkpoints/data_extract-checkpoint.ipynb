{
 "cells": [
  {
   "cell_type": "code",
   "execution_count": 34,
   "metadata": {},
   "outputs": [],
   "source": [
    "import numpy as np\n",
    "import pandas as pd\n",
    "import seaborn as sns\n",
    "import matplotlib.pyplot as plt\n",
    "from utils import data_loading"
   ]
  },
  {
   "cell_type": "markdown",
   "metadata": {},
   "source": [
    "# Clone the repo\n"
   ]
  },
  {
   "cell_type": "code",
   "execution_count": 29,
   "metadata": {},
   "outputs": [],
   "source": [
    "# !git clone https://github.com/leanhduc123/NLP_Zalo_QA.git zaloqa\n",
    "# %cd zaloqa"
   ]
  },
  {
   "cell_type": "markdown",
   "metadata": {},
   "source": [
    "# Load data\n"
   ]
  },
  {
   "cell_type": "code",
   "execution_count": 36,
   "metadata": {},
   "outputs": [
    {
     "ename": "AttributeError",
     "evalue": "'ZaloLoader' object has no attribute 'read_json'",
     "output_type": "error",
     "traceback": [
      "\u001b[1;31m---------------------------------------------------------------------------\u001b[0m",
      "\u001b[1;31mAttributeError\u001b[0m                            Traceback (most recent call last)",
      "\u001b[1;32m<ipython-input-36-4613d968362e>\u001b[0m in \u001b[0;36m<module>\u001b[1;34m\u001b[0m\n\u001b[0;32m      1\u001b[0m \u001b[0mzalo_loader\u001b[0m \u001b[1;33m=\u001b[0m \u001b[0mdata_loading\u001b[0m\u001b[1;33m.\u001b[0m\u001b[0mZaloLoader\u001b[0m\u001b[1;33m(\u001b[0m\u001b[1;33m)\u001b[0m\u001b[1;33m\u001b[0m\u001b[1;33m\u001b[0m\u001b[0m\n\u001b[0;32m      2\u001b[0m \u001b[1;33m\u001b[0m\u001b[0m\n\u001b[1;32m----> 3\u001b[1;33m \u001b[0mdata_loading\u001b[0m\u001b[1;33m.\u001b[0m\u001b[0mZaloLoader\u001b[0m\u001b[1;33m(\u001b[0m\u001b[1;33m)\u001b[0m\u001b[1;33m.\u001b[0m\u001b[0mread_json\u001b[0m\u001b[1;33m(\u001b[0m\u001b[1;34m\"data_json/train.json\"\u001b[0m\u001b[1;33m)\u001b[0m\u001b[1;33m\u001b[0m\u001b[1;33m\u001b[0m\u001b[0m\n\u001b[0m",
      "\u001b[1;31mAttributeError\u001b[0m: 'ZaloLoader' object has no attribute 'read_json'"
     ]
    }
   ],
   "source": [
    "zalo_loader = data_loading.ZaloLoader()\n",
    "zalo_data = pd.read_json(\"data_json/train.json\")\n",
    "zalo_data"
   ]
  },
  {
   "cell_type": "code",
   "execution_count": 20,
   "metadata": {},
   "outputs": [
    {
     "data": {
      "text/html": [
       "<div>\n",
       "<style scoped>\n",
       "    .dataframe tbody tr th:only-of-type {\n",
       "        vertical-align: middle;\n",
       "    }\n",
       "\n",
       "    .dataframe tbody tr th {\n",
       "        vertical-align: top;\n",
       "    }\n",
       "\n",
       "    .dataframe thead th {\n",
       "        text-align: right;\n",
       "    }\n",
       "</style>\n",
       "<table border=\"1\" class=\"dataframe\">\n",
       "  <thead>\n",
       "    <tr style=\"text-align: right;\">\n",
       "      <th></th>\n",
       "      <th>id</th>\n",
       "      <th>question</th>\n",
       "      <th>title</th>\n",
       "      <th>text</th>\n",
       "      <th>answer</th>\n",
       "      <th>label</th>\n",
       "    </tr>\n",
       "  </thead>\n",
       "  <tbody>\n",
       "    <tr>\n",
       "      <th>0</th>\n",
       "      <td>5a6cb5c14eec6b001a80a624</td>\n",
       "      <td>Dược phẩm không bán được gì?</td>\n",
       "      <td>Pharmacy</td>\n",
       "      <td>Từ dược phẩm có nguồn gốc từ dược phẩm gốc của...</td>\n",
       "      <td>tobacco and patent medicines</td>\n",
       "      <td>True</td>\n",
       "    </tr>\n",
       "    <tr>\n",
       "      <th>1</th>\n",
       "      <td>5a6cb5c14eec6b001a80a625</td>\n",
       "      <td>Những từ gốc tiếng Anh có nghĩa là gì?</td>\n",
       "      <td>Pharmacy</td>\n",
       "      <td>Từ dược phẩm có nguồn gốc từ dược phẩm gốc của...</td>\n",
       "      <td>sorcery or even poison</td>\n",
       "      <td>True</td>\n",
       "    </tr>\n",
       "    <tr>\n",
       "      <th>2</th>\n",
       "      <td>5a6cb5c14eec6b001a80a626</td>\n",
       "      <td>Những gì khác đã được các dược phẩm tránh?</td>\n",
       "      <td>Pharmacy</td>\n",
       "      <td>Từ dược phẩm có nguồn gốc từ dược phẩm gốc của...</td>\n",
       "      <td>many other herbs not listed</td>\n",
       "      <td>True</td>\n",
       "    </tr>\n",
       "    <tr>\n",
       "      <th>3</th>\n",
       "      <td>5a6cb5c14eec6b001a80a628</td>\n",
       "      <td>Thuật ngữ dược phẩm được sử dụng lần cuối tron...</td>\n",
       "      <td>Pharmacy</td>\n",
       "      <td>Từ dược phẩm có nguồn gốc từ dược phẩm gốc của...</td>\n",
       "      <td>15th</td>\n",
       "      <td>True</td>\n",
       "    </tr>\n",
       "    <tr>\n",
       "      <th>4</th>\n",
       "      <td>5a6cb66c4eec6b001a80a62e</td>\n",
       "      <td>Những loại chuyên gia làm dược sĩ thiếu?</td>\n",
       "      <td>Pharmacy</td>\n",
       "      <td>Dược sĩ là các chuyên gia chăm sóc sức khỏe vớ...</td>\n",
       "      <td>healthcare professionals</td>\n",
       "      <td>True</td>\n",
       "    </tr>\n",
       "    <tr>\n",
       "      <th>...</th>\n",
       "      <td>...</td>\n",
       "      <td>...</td>\n",
       "      <td>...</td>\n",
       "      <td>...</td>\n",
       "      <td>...</td>\n",
       "      <td>...</td>\n",
       "    </tr>\n",
       "    <tr>\n",
       "      <th>5940</th>\n",
       "      <td>5ad28a57d7d075001a4299b3</td>\n",
       "      <td>Lực lượng bảo thủ thường gắn liền với việc chu...</td>\n",
       "      <td>Force</td>\n",
       "      <td>Lực lượng bảo thủ bao gồm những gì?</td>\n",
       "      <td>nonconservative forces</td>\n",
       "      <td>True</td>\n",
       "    </tr>\n",
       "    <tr>\n",
       "      <th>5941</th>\n",
       "      <td>5ad28ad0d7d075001a4299cc</td>\n",
       "      <td>Điều gì không có một đối tác số liệu?</td>\n",
       "      <td>Force</td>\n",
       "      <td>Lực lượng bảo thủ thường gắn liền với việc chu...</td>\n",
       "      <td>pound-force</td>\n",
       "      <td>True</td>\n",
       "    </tr>\n",
       "    <tr>\n",
       "      <th>5942</th>\n",
       "      <td>5ad28ad0d7d075001a4299cd</td>\n",
       "      <td>Điều gì không có một đối tác số liệu?</td>\n",
       "      <td>Force</td>\n",
       "      <td>Lực lượng bảo thủ thường gắn liền với việc chu...</td>\n",
       "      <td>kilogram-force</td>\n",
       "      <td>True</td>\n",
       "    </tr>\n",
       "    <tr>\n",
       "      <th>5943</th>\n",
       "      <td>5ad28ad0d7d075001a4299ce</td>\n",
       "      <td>Lực nào dẫn đến một đơn vị khối lượng thường đ...</td>\n",
       "      <td>Force</td>\n",
       "      <td>Lực lượng bảo thủ thường gắn liền với việc chu...</td>\n",
       "      <td>kilogram-force</td>\n",
       "      <td>True</td>\n",
       "    </tr>\n",
       "    <tr>\n",
       "      <th>5944</th>\n",
       "      <td>5ad28ad0d7d075001a4299cf</td>\n",
       "      <td>Lực nào dẫn đến một đơn vị khối lượng thường đ...</td>\n",
       "      <td>Force</td>\n",
       "      <td>Lực lượng bảo thủ thường gắn liền với việc chu...</td>\n",
       "      <td>kilogram-force</td>\n",
       "      <td>True</td>\n",
       "    </tr>\n",
       "  </tbody>\n",
       "</table>\n",
       "<p>5945 rows × 6 columns</p>\n",
       "</div>"
      ],
      "text/plain": [
       "                            id  \\\n",
       "0     5a6cb5c14eec6b001a80a624   \n",
       "1     5a6cb5c14eec6b001a80a625   \n",
       "2     5a6cb5c14eec6b001a80a626   \n",
       "3     5a6cb5c14eec6b001a80a628   \n",
       "4     5a6cb66c4eec6b001a80a62e   \n",
       "...                        ...   \n",
       "5940  5ad28a57d7d075001a4299b3   \n",
       "5941  5ad28ad0d7d075001a4299cc   \n",
       "5942  5ad28ad0d7d075001a4299cd   \n",
       "5943  5ad28ad0d7d075001a4299ce   \n",
       "5944  5ad28ad0d7d075001a4299cf   \n",
       "\n",
       "                                               question     title  \\\n",
       "0                          Dược phẩm không bán được gì?  Pharmacy   \n",
       "1                Những từ gốc tiếng Anh có nghĩa là gì?  Pharmacy   \n",
       "2            Những gì khác đã được các dược phẩm tránh?  Pharmacy   \n",
       "3     Thuật ngữ dược phẩm được sử dụng lần cuối tron...  Pharmacy   \n",
       "4              Những loại chuyên gia làm dược sĩ thiếu?  Pharmacy   \n",
       "...                                                 ...       ...   \n",
       "5940  Lực lượng bảo thủ thường gắn liền với việc chu...     Force   \n",
       "5941              Điều gì không có một đối tác số liệu?     Force   \n",
       "5942              Điều gì không có một đối tác số liệu?     Force   \n",
       "5943  Lực nào dẫn đến một đơn vị khối lượng thường đ...     Force   \n",
       "5944  Lực nào dẫn đến một đơn vị khối lượng thường đ...     Force   \n",
       "\n",
       "                                                   text  \\\n",
       "0     Từ dược phẩm có nguồn gốc từ dược phẩm gốc của...   \n",
       "1     Từ dược phẩm có nguồn gốc từ dược phẩm gốc của...   \n",
       "2     Từ dược phẩm có nguồn gốc từ dược phẩm gốc của...   \n",
       "3     Từ dược phẩm có nguồn gốc từ dược phẩm gốc của...   \n",
       "4     Dược sĩ là các chuyên gia chăm sóc sức khỏe vớ...   \n",
       "...                                                 ...   \n",
       "5940                Lực lượng bảo thủ bao gồm những gì?   \n",
       "5941  Lực lượng bảo thủ thường gắn liền với việc chu...   \n",
       "5942  Lực lượng bảo thủ thường gắn liền với việc chu...   \n",
       "5943  Lực lượng bảo thủ thường gắn liền với việc chu...   \n",
       "5944  Lực lượng bảo thủ thường gắn liền với việc chu...   \n",
       "\n",
       "                            answer  label  \n",
       "0     tobacco and patent medicines   True  \n",
       "1           sorcery or even poison   True  \n",
       "2      many other herbs not listed   True  \n",
       "3                             15th   True  \n",
       "4         healthcare professionals   True  \n",
       "...                            ...    ...  \n",
       "5940        nonconservative forces   True  \n",
       "5941                   pound-force   True  \n",
       "5942                kilogram-force   True  \n",
       "5943                kilogram-force   True  \n",
       "5944                kilogram-force   True  \n",
       "\n",
       "[5945 rows x 6 columns]"
      ]
     },
     "execution_count": 20,
     "metadata": {},
     "output_type": "execute_result"
    }
   ],
   "source": [
    "squad_vn_data = pd.read_csv(\"data/squad_vi_dev_v2.0_ImpossibleAnswer.csv\")\n",
    "squad_vn_data"
   ]
  },
  {
   "cell_type": "code",
   "execution_count": 21,
   "metadata": {},
   "outputs": [
    {
     "data": {
      "text/html": [
       "<div>\n",
       "<style scoped>\n",
       "    .dataframe tbody tr th:only-of-type {\n",
       "        vertical-align: middle;\n",
       "    }\n",
       "\n",
       "    .dataframe tbody tr th {\n",
       "        vertical-align: top;\n",
       "    }\n",
       "\n",
       "    .dataframe thead th {\n",
       "        text-align: right;\n",
       "    }\n",
       "</style>\n",
       "<table border=\"1\" class=\"dataframe\">\n",
       "  <thead>\n",
       "    <tr style=\"text-align: right;\">\n",
       "      <th></th>\n",
       "      <th>id</th>\n",
       "      <th>question</th>\n",
       "      <th>title</th>\n",
       "      <th>text</th>\n",
       "      <th>answer</th>\n",
       "      <th>label</th>\n",
       "    </tr>\n",
       "  </thead>\n",
       "  <tbody>\n",
       "    <tr>\n",
       "      <th>0</th>\n",
       "      <td>5a8cc8f2fd22b3001a8d8e66</td>\n",
       "      <td>Liên minh dựa trên điều gì?</td>\n",
       "      <td>United_States_dollar</td>\n",
       "      <td>Không giống như đồng đô la của Tây Ban Nha, đô...</td>\n",
       "      <td>a decimal system of values</td>\n",
       "      <td>True</td>\n",
       "    </tr>\n",
       "    <tr>\n",
       "      <th>1</th>\n",
       "      <td>5a8cc8f2fd22b3001a8d8e67</td>\n",
       "      <td>Kho bạc nắm giữ bao nhiêu giá trị tiền tệ?</td>\n",
       "      <td>United_States_dollar</td>\n",
       "      <td>Không giống như đồng đô la của Tây Ban Nha, đô...</td>\n",
       "      <td>one-tenth of a dollar</td>\n",
       "      <td>True</td>\n",
       "    </tr>\n",
       "    <tr>\n",
       "      <th>2</th>\n",
       "      <td>5a8cc8f2fd22b3001a8d8e68</td>\n",
       "      <td>Bao nhiêu là một liên minh sẽ có giá trị như đ...</td>\n",
       "      <td>United_States_dollar</td>\n",
       "      <td>Không giống như đồng đô la của Tây Ban Nha, đô...</td>\n",
       "      <td>one hundred dollars</td>\n",
       "      <td>True</td>\n",
       "    </tr>\n",
       "    <tr>\n",
       "      <th>3</th>\n",
       "      <td>5a8cc8f2fd22b3001a8d8e69</td>\n",
       "      <td>Tiền giấy có giá trị tối đa được sử dụng để có...</td>\n",
       "      <td>United_States_dollar</td>\n",
       "      <td>Không giống như đồng đô la của Tây Ban Nha, đô...</td>\n",
       "      <td>$20</td>\n",
       "      <td>True</td>\n",
       "    </tr>\n",
       "    <tr>\n",
       "      <th>4</th>\n",
       "      <td>5a8cc8f2fd22b3001a8d8e6a</td>\n",
       "      <td>Trong luật pháp nào thuật ngữ \"giáo phái\" được...</td>\n",
       "      <td>United_States_dollar</td>\n",
       "      <td>Không giống như đồng đô la của Tây Ban Nha, đô...</td>\n",
       "      <td>Coinage Act of 1792</td>\n",
       "      <td>True</td>\n",
       "    </tr>\n",
       "    <tr>\n",
       "      <th>...</th>\n",
       "      <td>...</td>\n",
       "      <td>...</td>\n",
       "      <td>...</td>\n",
       "      <td>...</td>\n",
       "      <td>...</td>\n",
       "      <td>...</td>\n",
       "    </tr>\n",
       "    <tr>\n",
       "      <th>49438</th>\n",
       "      <td>5ad28a57d7d075001a4299b3</td>\n",
       "      <td>Lực lượng bảo thủ thường gắn liền với việc chu...</td>\n",
       "      <td>Force</td>\n",
       "      <td>Lực lượng bảo thủ bao gồm những gì?</td>\n",
       "      <td>nonconservative forces</td>\n",
       "      <td>True</td>\n",
       "    </tr>\n",
       "    <tr>\n",
       "      <th>49439</th>\n",
       "      <td>5ad28ad0d7d075001a4299cc</td>\n",
       "      <td>Điều gì không có một đối tác số liệu?</td>\n",
       "      <td>Force</td>\n",
       "      <td>Lực lượng bảo thủ thường gắn liền với việc chu...</td>\n",
       "      <td>pound-force</td>\n",
       "      <td>True</td>\n",
       "    </tr>\n",
       "    <tr>\n",
       "      <th>49440</th>\n",
       "      <td>5ad28ad0d7d075001a4299cd</td>\n",
       "      <td>Điều gì không có một đối tác số liệu?</td>\n",
       "      <td>Force</td>\n",
       "      <td>Lực lượng bảo thủ thường gắn liền với việc chu...</td>\n",
       "      <td>kilogram-force</td>\n",
       "      <td>True</td>\n",
       "    </tr>\n",
       "    <tr>\n",
       "      <th>49441</th>\n",
       "      <td>5ad28ad0d7d075001a4299ce</td>\n",
       "      <td>Lực nào dẫn đến một đơn vị khối lượng thường đ...</td>\n",
       "      <td>Force</td>\n",
       "      <td>Lực lượng bảo thủ thường gắn liền với việc chu...</td>\n",
       "      <td>kilogram-force</td>\n",
       "      <td>True</td>\n",
       "    </tr>\n",
       "    <tr>\n",
       "      <th>49442</th>\n",
       "      <td>5ad28ad0d7d075001a4299cf</td>\n",
       "      <td>Lực nào dẫn đến một đơn vị khối lượng thường đ...</td>\n",
       "      <td>Force</td>\n",
       "      <td>Lực lượng bảo thủ thường gắn liền với việc chu...</td>\n",
       "      <td>kilogram-force</td>\n",
       "      <td>True</td>\n",
       "    </tr>\n",
       "  </tbody>\n",
       "</table>\n",
       "<p>49443 rows × 6 columns</p>\n",
       "</div>"
      ],
      "text/plain": [
       "                             id  \\\n",
       "0      5a8cc8f2fd22b3001a8d8e66   \n",
       "1      5a8cc8f2fd22b3001a8d8e67   \n",
       "2      5a8cc8f2fd22b3001a8d8e68   \n",
       "3      5a8cc8f2fd22b3001a8d8e69   \n",
       "4      5a8cc8f2fd22b3001a8d8e6a   \n",
       "...                         ...   \n",
       "49438  5ad28a57d7d075001a4299b3   \n",
       "49439  5ad28ad0d7d075001a4299cc   \n",
       "49440  5ad28ad0d7d075001a4299cd   \n",
       "49441  5ad28ad0d7d075001a4299ce   \n",
       "49442  5ad28ad0d7d075001a4299cf   \n",
       "\n",
       "                                                question  \\\n",
       "0                            Liên minh dựa trên điều gì?   \n",
       "1             Kho bạc nắm giữ bao nhiêu giá trị tiền tệ?   \n",
       "2      Bao nhiêu là một liên minh sẽ có giá trị như đ...   \n",
       "3      Tiền giấy có giá trị tối đa được sử dụng để có...   \n",
       "4      Trong luật pháp nào thuật ngữ \"giáo phái\" được...   \n",
       "...                                                  ...   \n",
       "49438  Lực lượng bảo thủ thường gắn liền với việc chu...   \n",
       "49439              Điều gì không có một đối tác số liệu?   \n",
       "49440              Điều gì không có một đối tác số liệu?   \n",
       "49441  Lực nào dẫn đến một đơn vị khối lượng thường đ...   \n",
       "49442  Lực nào dẫn đến một đơn vị khối lượng thường đ...   \n",
       "\n",
       "                      title  \\\n",
       "0      United_States_dollar   \n",
       "1      United_States_dollar   \n",
       "2      United_States_dollar   \n",
       "3      United_States_dollar   \n",
       "4      United_States_dollar   \n",
       "...                     ...   \n",
       "49438                 Force   \n",
       "49439                 Force   \n",
       "49440                 Force   \n",
       "49441                 Force   \n",
       "49442                 Force   \n",
       "\n",
       "                                                    text  \\\n",
       "0      Không giống như đồng đô la của Tây Ban Nha, đô...   \n",
       "1      Không giống như đồng đô la của Tây Ban Nha, đô...   \n",
       "2      Không giống như đồng đô la của Tây Ban Nha, đô...   \n",
       "3      Không giống như đồng đô la của Tây Ban Nha, đô...   \n",
       "4      Không giống như đồng đô la của Tây Ban Nha, đô...   \n",
       "...                                                  ...   \n",
       "49438                Lực lượng bảo thủ bao gồm những gì?   \n",
       "49439  Lực lượng bảo thủ thường gắn liền với việc chu...   \n",
       "49440  Lực lượng bảo thủ thường gắn liền với việc chu...   \n",
       "49441  Lực lượng bảo thủ thường gắn liền với việc chu...   \n",
       "49442  Lực lượng bảo thủ thường gắn liền với việc chu...   \n",
       "\n",
       "                           answer  label  \n",
       "0      a decimal system of values   True  \n",
       "1           one-tenth of a dollar   True  \n",
       "2             one hundred dollars   True  \n",
       "3                             $20   True  \n",
       "4             Coinage Act of 1792   True  \n",
       "...                           ...    ...  \n",
       "49438      nonconservative forces   True  \n",
       "49439                 pound-force   True  \n",
       "49440              kilogram-force   True  \n",
       "49441              kilogram-force   True  \n",
       "49442              kilogram-force   True  \n",
       "\n",
       "[49443 rows x 6 columns]"
      ]
     },
     "execution_count": 21,
     "metadata": {},
     "output_type": "execute_result"
    }
   ],
   "source": [
    "squad_data = pd.read_csv(\"data/squad_vi_v2.0.csv\")\n",
    "squad_data"
   ]
  },
  {
   "cell_type": "markdown",
   "metadata": {},
   "source": [
    "# Data analysing"
   ]
  },
  {
   "cell_type": "code",
   "execution_count": 22,
   "metadata": {},
   "outputs": [
    {
     "data": {
      "text/plain": [
       "id          0\n",
       "question    0\n",
       "title       0\n",
       "text        0\n",
       "label       0\n",
       "dtype: int64"
      ]
     },
     "execution_count": 22,
     "metadata": {},
     "output_type": "execute_result"
    }
   ],
   "source": [
    "zalo_data.isna().sum()"
   ]
  },
  {
   "cell_type": "code",
   "execution_count": 23,
   "metadata": {},
   "outputs": [
    {
     "data": {
      "text/plain": [
       "<AxesSubplot:xlabel='dataset', ylabel='count'>"
      ]
     },
     "execution_count": 23,
     "metadata": {},
     "output_type": "execute_result"
    },
    {
     "data": {
      "image/png": "[encoded data removed]",
      "text/plain": [
       "<Figure size 432x288 with 1 Axes>"
      ]
     },
     "metadata": {
      "needs_background": "light"
     },
     "output_type": "display_data"
    }
   ],
   "source": [
    "label_count = pd.concat([\n",
    "    zalo_data.join(pd.Series(np.full(len(zalo_data), 'Zalo'), name='dataset'))[['dataset', 'label']],\n",
    "    squad_vn_data.join(pd.Series(np.full(len(squad_vn_data), 'SquadVN'), name='dataset'))[['dataset', 'label']],\n",
    "    squad_data.join(pd.Series(np.full(len(squad_data), 'Squad'), name='dataset'))[['dataset', 'label']]\n",
    "], axis = 0)\n",
    "sns.countplot(x='dataset', hue='label', data=label_count)"
   ]
  },
  {
   "cell_type": "code",
   "execution_count": 24,
   "metadata": {},
   "outputs": [
    {
     "data": {
      "image/png": "[encoded data removed]",
      "text/plain": [
       "<Figure size 432x288 with 1 Axes>"
      ]
     },
     "metadata": {
      "needs_background": "light"
     },
     "output_type": "display_data"
    }
   ],
   "source": [
    "question_count = pd.Series({'Zalo': zalo_data['question'].nunique(),\n",
    "                            'SquadVN': squad_vn_data['question'].nunique(),\n",
    "                            'Squad': squad_data['question'].nunique()})\n",
    "_, ax = plt.subplots()\n",
    "for i, v in enumerate(question_count):\n",
    "    ax.text(v + 2000, i, str(v), color='blue', fontweight='bold')\n",
    "plt.title('Number of questions')\n",
    "question_count.plot(kind='barh', xlim=(0, 170000)).invert_yaxis()"
   ]
  },
  {
   "cell_type": "code",
   "execution_count": 25,
   "metadata": {},
   "outputs": [
    {
     "data": {
      "image/png": "[encoded data removed]",
      "text/plain": [
       "<Figure size 432x288 with 1 Axes>"
      ]
     },
     "metadata": {
      "needs_background": "light"
     },
     "output_type": "display_data"
    }
   ],
   "source": [
    "paragraph_count = pd.Series({'Zalo': zalo_data['text'].nunique(),\n",
    "                            'SquadVN': squad_vn_data['text'].nunique(),\n",
    "                            'Squad': squad_data['text'].nunique()})\n",
    "_, ax = plt.subplots()\n",
    "for i, v in enumerate(paragraph_count):\n",
    "    ax.text(v + 1000, i, str(v), color='blue', fontweight='bold')\n",
    "plt.title('Number of paragraphs')\n",
    "paragraph_count.plot(kind='barh', xlim=(0, 25000)).invert_yaxis()"
   ]
  },
  {
   "cell_type": "code",
   "execution_count": 26,
   "metadata": {},
   "outputs": [
    {
     "data": {
      "image/png": "[encoded data removed]",
      "text/plain": [
       "<Figure size 432x288 with 1 Axes>"
      ]
     },
     "metadata": {
      "needs_background": "light"
     },
     "output_type": "display_data"
    }
   ],
   "source": [
    "title_count = pd.Series({'Zalo': zalo_data['title'].nunique(),\n",
    "                         'SquadVN': squad_vn_data['title'].nunique(),\n",
    "                         'Squad': squad_data['title'].nunique()})\n",
    "_, ax = plt.subplots()\n",
    "for i, v in enumerate(title_count):\n",
    "    ax.text(v + 200, i, str(v), color='blue', fontweight='bold')\n",
    "plt.title('Number of titles')\n",
    "title_count.plot(kind='barh', xlim=(0, 11000)).invert_yaxis()"
   ]
  },
  {
   "cell_type": "code",
   "execution_count": 27,
   "metadata": {},
   "outputs": [
    {
     "data": {
      "image/png": "[encoded data removed]",
      "text/plain": [
       "<Figure size 432x288 with 1 Axes>"
      ]
     },
     "metadata": {
      "needs_background": "light"
     },
     "output_type": "display_data"
    }
   ],
   "source": [
    "plt.title('Top 10 popular titles in Zalo dataset')\n",
    "plt.xlabel('Frequency')\n",
    "zalo_data['title'].value_counts()[1:11].plot(kind='barh').invert_yaxis()"
   ]
  },
  {
   "cell_type": "code",
   "execution_count": 28,
   "metadata": {},
   "outputs": [
    {
     "data": {
      "image/png": "[encoded data removed]",
      "text/plain": [
       "<Figure size 432x288 with 1 Axes>"
      ]
     },
     "metadata": {
      "needs_background": "light"
     },
     "output_type": "display_data"
    }
   ],
   "source": [
    "plt.title('Top 10 popular titles in SquadVN dataset')\n",
    "plt.xlabel('Frequency')\n",
    "squad_vn_data['title'].value_counts()[1:11].plot(kind='barh').invert_yaxis()"
   ]
  },
  {
   "cell_type": "code",
   "execution_count": 29,
   "metadata": {},
   "outputs": [
    {
     "data": {
      "image/png": "[encoded data removed]",
      "text/plain": [
       "<Figure size 432x288 with 1 Axes>"
      ]
     },
     "metadata": {
      "needs_background": "light"
     },
     "output_type": "display_data"
    }
   ],
   "source": [
    "plt.title('Top 10 popular titles in Squad dataset')\n",
    "plt.xlabel('Frequency')\n",
    "squad_data['title'].value_counts()[1:11].plot(kind='barh').invert_yaxis()"
   ]
  },
  {
   "cell_type": "code",
   "execution_count": 30,
   "metadata": {},
   "outputs": [
    {
     "data": {
      "text/plain": [
       "<AxesSubplot:title={'center':'Length of question (Zalo)'}, xlabel='Length', ylabel='Frequency'>"
      ]
     },
     "execution_count": 30,
     "metadata": {},
     "output_type": "execute_result"
    },
    {
     "data": {
      "image/png": "[encoded data removed]",
      "text/plain": [
       "<Figure size 432x288 with 1 Axes>"
      ]
     },
     "metadata": {
      "needs_background": "light"
     },
     "output_type": "display_data"
    }
   ],
   "source": [
    "plt.title('Length of question (Zalo)')\n",
    "plt.xlabel('Length')\n",
    "zalo_data['question'].str.split(' ').str.len().plot.hist(xlim=(0, 25), bins=20)"
   ]
  },
  {
   "cell_type": "code",
   "execution_count": null,
   "metadata": {},
   "outputs": [],
   "source": [
    "# import tokenizing\n",
    "# plt.title('Length of question in tokens (Zalo)')\n",
    "# plt.xlabel('Length')\n",
    "# zalo_data['question'].apply(tokenizing.tokenize).str.len().plot.hist(xlim=(0, 25), bins=20)"
   ]
  },
  {
   "cell_type": "code",
   "execution_count": 31,
   "metadata": {},
   "outputs": [
    {
     "data": {
      "text/plain": [
       "<AxesSubplot:title={'center':'Length of question (SquadVN)'}, xlabel='Length', ylabel='Frequency'>"
      ]
     },
     "execution_count": 31,
     "metadata": {},
     "output_type": "execute_result"
    },
    {
     "data": {
      "image/png": "[encoded data removed]",
      "text/plain": [
       "<Figure size 432x288 with 1 Axes>"
      ]
     },
     "metadata": {
      "needs_background": "light"
     },
     "output_type": "display_data"
    }
   ],
   "source": [
    "plt.title('Length of question (SquadVN)')\n",
    "plt.xlabel('Length')\n",
    "squad_vn_data['question'].str.split(' ').str.len().plot.hist(xlim=(0, 30), bins=20)"
   ]
  },
  {
   "cell_type": "code",
   "execution_count": 32,
   "metadata": {},
   "outputs": [
    {
     "data": {
      "text/plain": [
       "<AxesSubplot:title={'center':'Length of question (Squad)'}, xlabel='Length', ylabel='Frequency'>"
      ]
     },
     "execution_count": 32,
     "metadata": {},
     "output_type": "execute_result"
    },
    {
     "data": {
      "image/png": "[encoded data removed]",
      "text/plain": [
       "<Figure size 432x288 with 1 Axes>"
      ]
     },
     "metadata": {
      "needs_background": "light"
     },
     "output_type": "display_data"
    }
   ],
   "source": [
    "plt.title('Length of question (Squad)')\n",
    "plt.xlabel('Length')\n",
    "squad_data['question'].str.split(' ').str.len().plot.hist(xlim=(0, 40), bins=20)"
   ]
  },
  {
   "cell_type": "code",
   "execution_count": 33,
   "metadata": {},
   "outputs": [
    {
     "data": {
      "image/png": "[encoded data removed]",
      "text/plain": [
       "<Figure size 432x288 with 1 Axes>"
      ]
     },
     "metadata": {
      "needs_background": "light"
     },
     "output_type": "display_data"
    }
   ],
   "source": [
    "question_len = pd.Series({'Zalo': zalo_data['question'].str.split(' ').str.len().mean(),\n",
    "                          'SquadVN': squad_vn_data['question'].str.split(' ').str.len().mean(),\n",
    "                          'Squad': squad_data['question'].str.split(' ').str.len().mean()})\n",
    "plt.title('Length of question')\n",
    "question_len.plot(kind='barh').invert_yaxis()"
   ]
  },
  {
   "cell_type": "code",
   "execution_count": 34,
   "metadata": {},
   "outputs": [
    {
     "data": {
      "text/plain": [
       "<AxesSubplot:title={'center':'Length of paragraph (Zalo)'}, xlabel='Length', ylabel='Frequency'>"
      ]
     },
     "execution_count": 34,
     "metadata": {},
     "output_type": "execute_result"
    },
    {
     "data": {
      "image/png": "[encoded data removed]",
      "text/plain": [
       "<Figure size 432x288 with 1 Axes>"
      ]
     },
     "metadata": {
      "needs_background": "light"
     },
     "output_type": "display_data"
    }
   ],
   "source": [
    "plt.title('Length of paragraph (Zalo)')\n",
    "plt.xlabel('Length')\n",
    "zalo_data['text'].str.split(' ').str.len().plot.hist(xlim=(0, 300), bins=100)"
   ]
  },
  {
   "cell_type": "code",
   "execution_count": null,
   "metadata": {},
   "outputs": [],
   "source": [
    "# plt.title('Length of paragraph in tokens')\n",
    "# plt.xlabel('Length')\n",
    "# zalo_data['text'].apply(tokenizing.tokenize).str.len().plot.hist(xlim=(0, 300), bins=100)"
   ]
  },
  {
   "cell_type": "code",
   "execution_count": 35,
   "metadata": {},
   "outputs": [
    {
     "data": {
      "text/plain": [
       "<AxesSubplot:title={'center':'Length of paragraph (SquadVN)'}, xlabel='Length', ylabel='Frequency'>"
      ]
     },
     "execution_count": 35,
     "metadata": {},
     "output_type": "execute_result"
    },
    {
     "data": {
      "image/png": "[encoded data removed]",
      "text/plain": [
       "<Figure size 432x288 with 1 Axes>"
      ]
     },
     "metadata": {
      "needs_background": "light"
     },
     "output_type": "display_data"
    }
   ],
   "source": [
    "plt.title('Length of paragraph (SquadVN)')\n",
    "plt.xlabel('Length')\n",
    "squad_vn_data['text'].str.split(' ').str.len().plot.hist(xlim=(0, 700), bins=100)"
   ]
  },
  {
   "cell_type": "code",
   "execution_count": 36,
   "metadata": {},
   "outputs": [
    {
     "data": {
      "text/plain": [
       "<AxesSubplot:title={'center':'Length of paragraph (Squad)'}, xlabel='Length', ylabel='Frequency'>"
      ]
     },
     "execution_count": 36,
     "metadata": {},
     "output_type": "execute_result"
    },
    {
     "data": {
      "image/png": "[encoded data removed]",
      "text/plain": [
       "<Figure size 432x288 with 1 Axes>"
      ]
     },
     "metadata": {
      "needs_background": "light"
     },
     "output_type": "display_data"
    }
   ],
   "source": [
    "plt.title('Length of paragraph (Squad)')\n",
    "plt.xlabel('Length')\n",
    "squad_data['text'].str.split(' ').str.len().plot.hist(xlim=(0, 500), bins=100)"
   ]
  },
  {
   "cell_type": "code",
   "execution_count": 37,
   "metadata": {},
   "outputs": [
    {
     "data": {
      "image/png": "[encoded data removed]",
      "text/plain": [
       "<Figure size 432x288 with 1 Axes>"
      ]
     },
     "metadata": {
      "needs_background": "light"
     },
     "output_type": "display_data"
    }
   ],
   "source": [
    "paragraph_len = pd.Series({'Zalo': zalo_data['text'].str.split(' ').str.len().mean(),\n",
    "                          'SquadVN': squad_vn_data['text'].str.split(' ').str.len().mean(),\n",
    "                          'Squad': squad_data['text'].str.split(' ').str.len().mean()})\n",
    "plt.title('Length of paragraph')\n",
    "paragraph_len.plot(kind='barh').invert_yaxis()"
   ]
  },
  {
   "cell_type": "code",
   "execution_count": null,
   "metadata": {},
   "outputs": [],
   "source": []
  }
 ],
 "metadata": {
  "kernelspec": {
   "display_name": "Python 3",
   "language": "python",
   "name": "python3"
  },
  "language_info": {
   "codemirror_mode": {
    "name": "ipython",
    "version": 3
   },
   "file_extension": ".py",
   "mimetype": "text/x-python",
   "name": "python",
   "nbconvert_exporter": "python",
   "pygments_lexer": "ipython3",
   "version": "3.9.0"
  }
 },
 "nbformat": 4,
 "nbformat_minor": 4
}
