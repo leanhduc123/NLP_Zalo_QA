{
 "cells": [
  {
   "cell_type": "code",
   "execution_count": 2,
   "metadata": {},
   "outputs": [],
   "source": [
    "import numpy as np\n",
    "import pandas as pd\n",
    "import seaborn as sns\n",
    "import matplotlib.pyplot as plt\n",
    "from utils import data_loading"
   ]
  },
  {
   "cell_type": "markdown",
   "metadata": {},
   "source": [
    "# Clone the repo\n"
   ]
  },
  {
   "cell_type": "code",
   "execution_count": 3,
   "metadata": {},
   "outputs": [],
   "source": [
    "# !git clone https://github.com/leanhduc123/NLP_Zalo_QA.git zaloqa\n",
    "# %cd zaloqa"
   ]
  },
  {
   "cell_type": "markdown",
   "metadata": {},
   "source": [
    "# Load data\n"
   ]
  },
  {
   "cell_type": "code",
   "execution_count": 4,
   "metadata": {},
   "outputs": [
    {
     "data": {
      "text/html": [
       "<div>\n",
       "<style scoped>\n",
       "    .dataframe tbody tr th:only-of-type {\n",
       "        vertical-align: middle;\n",
       "    }\n",
       "\n",
       "    .dataframe tbody tr th {\n",
       "        vertical-align: top;\n",
       "    }\n",
       "\n",
       "    .dataframe thead th {\n",
       "        text-align: right;\n",
       "    }\n",
       "</style>\n",
       "<table border=\"1\" class=\"dataframe\">\n",
       "  <thead>\n",
       "    <tr style=\"text-align: right;\">\n",
       "      <th></th>\n",
       "      <th>id</th>\n",
       "      <th>question</th>\n",
       "      <th>title</th>\n",
       "      <th>text</th>\n",
       "      <th>label</th>\n",
       "    </tr>\n",
       "  </thead>\n",
       "  <tbody>\n",
       "    <tr>\n",
       "      <th>0</th>\n",
       "      <td>u7-1570446247_1</td>\n",
       "      <td>Quang Hải giành được chức vô địch U21 quốc gia...</td>\n",
       "      <td>Nguyễn Quang Hải (sinh 1997)</td>\n",
       "      <td>Năm 2013 , Nguyễn Quang Hải giành chức vô địch...</td>\n",
       "      <td>True</td>\n",
       "    </tr>\n",
       "    <tr>\n",
       "      <th>1</th>\n",
       "      <td>u7-1570446247_2</td>\n",
       "      <td>Quang Hải giành được chức vô địch U21 quốc gia...</td>\n",
       "      <td>Nguyễn Quang Hải (sinh 1997)</td>\n",
       "      <td>Sau chức vô địch U-21 quốc gia 2013 , Nguyễn Q...</td>\n",
       "      <td>True</td>\n",
       "    </tr>\n",
       "    <tr>\n",
       "      <th>2</th>\n",
       "      <td>u7-1570446247_0</td>\n",
       "      <td>Quang Hải giành được chức vô địch U21 quốc gia...</td>\n",
       "      <td>Nguyễn Quang Hải (sinh 1997)</td>\n",
       "      <td>Anh bắt đầu gia nhập lò đào tạo trẻ Hà Nội T&amp;T...</td>\n",
       "      <td>False</td>\n",
       "    </tr>\n",
       "    <tr>\n",
       "      <th>3</th>\n",
       "      <td>u7-1570446247_3</td>\n",
       "      <td>Quang Hải giành được chức vô địch U21 quốc gia...</td>\n",
       "      <td>Nguyễn Quang Hải (sinh 1997)</td>\n",
       "      <td>Năm 2011 , Nguyễn Quang Hải mới 14 tuổi được g...</td>\n",
       "      <td>False</td>\n",
       "    </tr>\n",
       "    <tr>\n",
       "      <th>4</th>\n",
       "      <td>u7-1570445661_0</td>\n",
       "      <td>Mỗi hiệp bóng đá kéo dài bao lâu</td>\n",
       "      <td>Bóng đá</td>\n",
       "      <td>Một trận đấu bóng đá thông thường có hai hiệp ...</td>\n",
       "      <td>True</td>\n",
       "    </tr>\n",
       "    <tr>\n",
       "      <th>...</th>\n",
       "      <td>...</td>\n",
       "      <td>...</td>\n",
       "      <td>...</td>\n",
       "      <td>...</td>\n",
       "      <td>...</td>\n",
       "    </tr>\n",
       "    <tr>\n",
       "      <th>18103</th>\n",
       "      <td>u6-1551268099_0</td>\n",
       "      <td>Thành phố nào là thủ đô của Costa Rica</td>\n",
       "      <td>San José, Costa Rica</td>\n",
       "      <td>San José (tiếng Tây Ban Nha: San José; ) là th...</td>\n",
       "      <td>True</td>\n",
       "    </tr>\n",
       "    <tr>\n",
       "      <th>18104</th>\n",
       "      <td>u6-1551268099_1</td>\n",
       "      <td>Thành phố nào là thủ đô của Costa Rica</td>\n",
       "      <td>Costa Rica</td>\n",
       "      <td>Vì Costa Rica có địa hình đa dạng nhiều núi no...</td>\n",
       "      <td>True</td>\n",
       "    </tr>\n",
       "    <tr>\n",
       "      <th>18105</th>\n",
       "      <td>u6-1551268099_2</td>\n",
       "      <td>Thành phố nào là thủ đô của Costa Rica</td>\n",
       "      <td>San José, Costa Rica</td>\n",
       "      <td>Với địa vị là thủ đô, San José là nơi đặt trụ ...</td>\n",
       "      <td>True</td>\n",
       "    </tr>\n",
       "    <tr>\n",
       "      <th>18106</th>\n",
       "      <td>u6-1551268099_4</td>\n",
       "      <td>Thành phố nào là thủ đô của Costa Rica</td>\n",
       "      <td>Santa Teresa, Costa Rica</td>\n",
       "      <td>Santa Teresa là một thị xã nhỏ ở tỉnh Puntaren...</td>\n",
       "      <td>True</td>\n",
       "    </tr>\n",
       "    <tr>\n",
       "      <th>18107</th>\n",
       "      <td>u6-1551268099_3</td>\n",
       "      <td>Thành phố nào là thủ đô của Costa Rica</td>\n",
       "      <td>Cartago (tỉnh)</td>\n",
       "      <td>Cartago là một tỉnh của Costa Rica. Tỉnh này n...</td>\n",
       "      <td>False</td>\n",
       "    </tr>\n",
       "  </tbody>\n",
       "</table>\n",
       "<p>18108 rows × 5 columns</p>\n",
       "</div>"
      ],
      "text/plain": [
       "                    id                                           question  \\\n",
       "0      u7-1570446247_1  Quang Hải giành được chức vô địch U21 quốc gia...   \n",
       "1      u7-1570446247_2  Quang Hải giành được chức vô địch U21 quốc gia...   \n",
       "2      u7-1570446247_0  Quang Hải giành được chức vô địch U21 quốc gia...   \n",
       "3      u7-1570446247_3  Quang Hải giành được chức vô địch U21 quốc gia...   \n",
       "4      u7-1570445661_0                   Mỗi hiệp bóng đá kéo dài bao lâu   \n",
       "...                ...                                                ...   \n",
       "18103  u6-1551268099_0             Thành phố nào là thủ đô của Costa Rica   \n",
       "18104  u6-1551268099_1             Thành phố nào là thủ đô của Costa Rica   \n",
       "18105  u6-1551268099_2             Thành phố nào là thủ đô của Costa Rica   \n",
       "18106  u6-1551268099_4             Thành phố nào là thủ đô của Costa Rica   \n",
       "18107  u6-1551268099_3             Thành phố nào là thủ đô của Costa Rica   \n",
       "\n",
       "                              title  \\\n",
       "0      Nguyễn Quang Hải (sinh 1997)   \n",
       "1      Nguyễn Quang Hải (sinh 1997)   \n",
       "2      Nguyễn Quang Hải (sinh 1997)   \n",
       "3      Nguyễn Quang Hải (sinh 1997)   \n",
       "4                           Bóng đá   \n",
       "...                             ...   \n",
       "18103          San José, Costa Rica   \n",
       "18104                    Costa Rica   \n",
       "18105          San José, Costa Rica   \n",
       "18106      Santa Teresa, Costa Rica   \n",
       "18107                Cartago (tỉnh)   \n",
       "\n",
       "                                                    text  label  \n",
       "0      Năm 2013 , Nguyễn Quang Hải giành chức vô địch...   True  \n",
       "1      Sau chức vô địch U-21 quốc gia 2013 , Nguyễn Q...   True  \n",
       "2      Anh bắt đầu gia nhập lò đào tạo trẻ Hà Nội T&T...  False  \n",
       "3      Năm 2011 , Nguyễn Quang Hải mới 14 tuổi được g...  False  \n",
       "4      Một trận đấu bóng đá thông thường có hai hiệp ...   True  \n",
       "...                                                  ...    ...  \n",
       "18103  San José (tiếng Tây Ban Nha: San José; ) là th...   True  \n",
       "18104  Vì Costa Rica có địa hình đa dạng nhiều núi no...   True  \n",
       "18105  Với địa vị là thủ đô, San José là nơi đặt trụ ...   True  \n",
       "18106  Santa Teresa là một thị xã nhỏ ở tỉnh Puntaren...   True  \n",
       "18107  Cartago là một tỉnh của Costa Rica. Tỉnh này n...  False  \n",
       "\n",
       "[18108 rows x 5 columns]"
      ]
     },
     "execution_count": 4,
     "metadata": {},
     "output_type": "execute_result"
    }
   ],
   "source": [
    "zalo_loader = data_loading.ZaloLoader()\n",
    "zalo_data = pd.read_json(\"data_json/train.json\")\n",
    "zalo_data"
   ]
  },
  {
   "cell_type": "code",
   "execution_count": 5,
   "metadata": {},
   "outputs": [
    {
     "data": {
      "text/html": [
       "<div>\n",
       "<style scoped>\n",
       "    .dataframe tbody tr th:only-of-type {\n",
       "        vertical-align: middle;\n",
       "    }\n",
       "\n",
       "    .dataframe tbody tr th {\n",
       "        vertical-align: top;\n",
       "    }\n",
       "\n",
       "    .dataframe thead th {\n",
       "        text-align: right;\n",
       "    }\n",
       "</style>\n",
       "<table border=\"1\" class=\"dataframe\">\n",
       "  <thead>\n",
       "    <tr style=\"text-align: right;\">\n",
       "      <th></th>\n",
       "      <th>id</th>\n",
       "      <th>question</th>\n",
       "      <th>title</th>\n",
       "      <th>text</th>\n",
       "      <th>answer</th>\n",
       "      <th>label</th>\n",
       "    </tr>\n",
       "  </thead>\n",
       "  <tbody>\n",
       "    <tr>\n",
       "      <th>0</th>\n",
       "      <td>37bce7cfc34d4bf9b81e340c5345384c</td>\n",
       "      <td>Ai là thủ tướng Ấn Độ hiện tại</td>\n",
       "      <td>Ai là thủ tướng Ấn Độ hiện tại</td>\n",
       "      <td>Thủ tướng Ấn Độ sắp sang Mỹ gặp ông Trump mua ...</td>\n",
       "      <td>NaN</td>\n",
       "      <td>True</td>\n",
       "    </tr>\n",
       "    <tr>\n",
       "      <th>1</th>\n",
       "      <td>8af074fb95c941b485c120e2ddbcc7c8</td>\n",
       "      <td>Ai là thủ tướng Ấn Độ hiện tại</td>\n",
       "      <td>Ai là thủ tướng Ấn Độ hiện tại</td>\n",
       "      <td>Narendra Damodardas Modi ( tiếng Gujarat : નરે...</td>\n",
       "      <td>Narendra Damodardas Modi</td>\n",
       "      <td>False</td>\n",
       "    </tr>\n",
       "    <tr>\n",
       "      <th>2</th>\n",
       "      <td>4d8ce4afc5ed4364ad70fc4384eff08b</td>\n",
       "      <td>Ai là thủ tướng Ấn Độ hiện tại</td>\n",
       "      <td>Ai là thủ tướng Ấn Độ hiện tại</td>\n",
       "      <td>- Google hôm 3/6 đã xin lỗi Thủ tướng Ấn Độ Na...</td>\n",
       "      <td>Narendra Modi</td>\n",
       "      <td>False</td>\n",
       "    </tr>\n",
       "    <tr>\n",
       "      <th>3</th>\n",
       "      <td>ded17c6beaa746eebe531b3dd2b0f573</td>\n",
       "      <td>Ai là thủ tướng Ấn Độ hiện tại</td>\n",
       "      <td>Ai là thủ tướng Ấn Độ hiện tại</td>\n",
       "      <td>thủ tướng thăm Ấn Độ Nguyễn Xuân Phúc ASEAN th...</td>\n",
       "      <td>NaN</td>\n",
       "      <td>True</td>\n",
       "    </tr>\n",
       "    <tr>\n",
       "      <th>4</th>\n",
       "      <td>4e03f08a78b744a48f0f380441a227f4</td>\n",
       "      <td>Ai là thủ tướng Ấn Độ hiện tại</td>\n",
       "      <td>Ai là thủ tướng Ấn Độ hiện tại</td>\n",
       "      <td>Tin tức về chủ đề \" Thủ tướng Ấn Độ Narendra M...</td>\n",
       "      <td>Narendra Modi</td>\n",
       "      <td>False</td>\n",
       "    </tr>\n",
       "    <tr>\n",
       "      <th>...</th>\n",
       "      <td>...</td>\n",
       "      <td>...</td>\n",
       "      <td>...</td>\n",
       "      <td>...</td>\n",
       "      <td>...</td>\n",
       "      <td>...</td>\n",
       "    </tr>\n",
       "    <tr>\n",
       "      <th>5940</th>\n",
       "      <td>5ad28a57d7d075001a4299b3</td>\n",
       "      <td>Lực lượng bảo thủ thường gắn liền với việc chu...</td>\n",
       "      <td>Force</td>\n",
       "      <td>Lực lượng bảo thủ bao gồm những gì?</td>\n",
       "      <td>nonconservative forces</td>\n",
       "      <td>True</td>\n",
       "    </tr>\n",
       "    <tr>\n",
       "      <th>5941</th>\n",
       "      <td>5ad28ad0d7d075001a4299cc</td>\n",
       "      <td>Điều gì không có một đối tác số liệu?</td>\n",
       "      <td>Force</td>\n",
       "      <td>Lực lượng bảo thủ thường gắn liền với việc chu...</td>\n",
       "      <td>pound-force</td>\n",
       "      <td>True</td>\n",
       "    </tr>\n",
       "    <tr>\n",
       "      <th>5942</th>\n",
       "      <td>5ad28ad0d7d075001a4299cd</td>\n",
       "      <td>Điều gì không có một đối tác số liệu?</td>\n",
       "      <td>Force</td>\n",
       "      <td>Lực lượng bảo thủ thường gắn liền với việc chu...</td>\n",
       "      <td>kilogram-force</td>\n",
       "      <td>True</td>\n",
       "    </tr>\n",
       "    <tr>\n",
       "      <th>5943</th>\n",
       "      <td>5ad28ad0d7d075001a4299ce</td>\n",
       "      <td>Lực nào dẫn đến một đơn vị khối lượng thường đ...</td>\n",
       "      <td>Force</td>\n",
       "      <td>Lực lượng bảo thủ thường gắn liền với việc chu...</td>\n",
       "      <td>kilogram-force</td>\n",
       "      <td>True</td>\n",
       "    </tr>\n",
       "    <tr>\n",
       "      <th>5944</th>\n",
       "      <td>5ad28ad0d7d075001a4299cf</td>\n",
       "      <td>Lực nào dẫn đến một đơn vị khối lượng thường đ...</td>\n",
       "      <td>Force</td>\n",
       "      <td>Lực lượng bảo thủ thường gắn liền với việc chu...</td>\n",
       "      <td>kilogram-force</td>\n",
       "      <td>True</td>\n",
       "    </tr>\n",
       "  </tbody>\n",
       "</table>\n",
       "<p>9399 rows × 6 columns</p>\n",
       "</div>"
      ],
      "text/plain": [
       "                                    id  \\\n",
       "0     37bce7cfc34d4bf9b81e340c5345384c   \n",
       "1     8af074fb95c941b485c120e2ddbcc7c8   \n",
       "2     4d8ce4afc5ed4364ad70fc4384eff08b   \n",
       "3     ded17c6beaa746eebe531b3dd2b0f573   \n",
       "4     4e03f08a78b744a48f0f380441a227f4   \n",
       "...                                ...   \n",
       "5940          5ad28a57d7d075001a4299b3   \n",
       "5941          5ad28ad0d7d075001a4299cc   \n",
       "5942          5ad28ad0d7d075001a4299cd   \n",
       "5943          5ad28ad0d7d075001a4299ce   \n",
       "5944          5ad28ad0d7d075001a4299cf   \n",
       "\n",
       "                                               question  \\\n",
       "0                        Ai là thủ tướng Ấn Độ hiện tại   \n",
       "1                        Ai là thủ tướng Ấn Độ hiện tại   \n",
       "2                        Ai là thủ tướng Ấn Độ hiện tại   \n",
       "3                        Ai là thủ tướng Ấn Độ hiện tại   \n",
       "4                        Ai là thủ tướng Ấn Độ hiện tại   \n",
       "...                                                 ...   \n",
       "5940  Lực lượng bảo thủ thường gắn liền với việc chu...   \n",
       "5941              Điều gì không có một đối tác số liệu?   \n",
       "5942              Điều gì không có một đối tác số liệu?   \n",
       "5943  Lực nào dẫn đến một đơn vị khối lượng thường đ...   \n",
       "5944  Lực nào dẫn đến một đơn vị khối lượng thường đ...   \n",
       "\n",
       "                               title  \\\n",
       "0     Ai là thủ tướng Ấn Độ hiện tại   \n",
       "1     Ai là thủ tướng Ấn Độ hiện tại   \n",
       "2     Ai là thủ tướng Ấn Độ hiện tại   \n",
       "3     Ai là thủ tướng Ấn Độ hiện tại   \n",
       "4     Ai là thủ tướng Ấn Độ hiện tại   \n",
       "...                              ...   \n",
       "5940                           Force   \n",
       "5941                           Force   \n",
       "5942                           Force   \n",
       "5943                           Force   \n",
       "5944                           Force   \n",
       "\n",
       "                                                   text  \\\n",
       "0     Thủ tướng Ấn Độ sắp sang Mỹ gặp ông Trump mua ...   \n",
       "1     Narendra Damodardas Modi ( tiếng Gujarat : નરે...   \n",
       "2     - Google hôm 3/6 đã xin lỗi Thủ tướng Ấn Độ Na...   \n",
       "3     thủ tướng thăm Ấn Độ Nguyễn Xuân Phúc ASEAN th...   \n",
       "4     Tin tức về chủ đề \" Thủ tướng Ấn Độ Narendra M...   \n",
       "...                                                 ...   \n",
       "5940                Lực lượng bảo thủ bao gồm những gì?   \n",
       "5941  Lực lượng bảo thủ thường gắn liền với việc chu...   \n",
       "5942  Lực lượng bảo thủ thường gắn liền với việc chu...   \n",
       "5943  Lực lượng bảo thủ thường gắn liền với việc chu...   \n",
       "5944  Lực lượng bảo thủ thường gắn liền với việc chu...   \n",
       "\n",
       "                        answer  label  \n",
       "0                          NaN   True  \n",
       "1     Narendra Damodardas Modi  False  \n",
       "2                Narendra Modi  False  \n",
       "3                          NaN   True  \n",
       "4                Narendra Modi  False  \n",
       "...                        ...    ...  \n",
       "5940    nonconservative forces   True  \n",
       "5941               pound-force   True  \n",
       "5942            kilogram-force   True  \n",
       "5943            kilogram-force   True  \n",
       "5944            kilogram-force   True  \n",
       "\n",
       "[9399 rows x 6 columns]"
      ]
     },
     "execution_count": 5,
     "metadata": {},
     "output_type": "execute_result"
    }
   ],
   "source": [
    "squad_vn_data = pd.read_csv(\"data/squad-v2.0-mailong25.csv\")\n",
    "squad_vn_data = squad_vn_data.append(pd.read_csv(\"data/squad_vi_dev_v2.0_ImpossibleAnswer.csv\"))\n",
    "squad_vn_data"
   ]
  },
  {
   "cell_type": "code",
   "execution_count": 6,
   "metadata": {},
   "outputs": [
    {
     "data": {
      "text/html": [
       "<div>\n",
       "<style scoped>\n",
       "    .dataframe tbody tr th:only-of-type {\n",
       "        vertical-align: middle;\n",
       "    }\n",
       "\n",
       "    .dataframe tbody tr th {\n",
       "        vertical-align: top;\n",
       "    }\n",
       "\n",
       "    .dataframe thead th {\n",
       "        text-align: right;\n",
       "    }\n",
       "</style>\n",
       "<table border=\"1\" class=\"dataframe\">\n",
       "  <thead>\n",
       "    <tr style=\"text-align: right;\">\n",
       "      <th></th>\n",
       "      <th>id</th>\n",
       "      <th>question</th>\n",
       "      <th>title</th>\n",
       "      <th>text</th>\n",
       "      <th>answer</th>\n",
       "      <th>label</th>\n",
       "    </tr>\n",
       "  </thead>\n",
       "  <tbody>\n",
       "    <tr>\n",
       "      <th>0</th>\n",
       "      <td>5733be284776f4190066117e</td>\n",
       "      <td>Có gì ngồi trên đầu trang của Tòa nhà Chính tạ...</td>\n",
       "      <td>translated</td>\n",
       "      <td>Về mặt kiến ​​trúc, trường có một nhân vật Côn...</td>\n",
       "      <td>bức tượng vàng của Đức Trinh Nữ Maria</td>\n",
       "      <td>False</td>\n",
       "    </tr>\n",
       "    <tr>\n",
       "      <th>1</th>\n",
       "      <td>5733be284776f4190066117f</td>\n",
       "      <td>là những gì ở phía trước của Notre Dame Tòa nh...</td>\n",
       "      <td>translated</td>\n",
       "      <td>Về mặt kiến ​​trúc, trường có một nhân vật Côn...</td>\n",
       "      <td>một bức tượng đồng của Chúa Kitô</td>\n",
       "      <td>False</td>\n",
       "    </tr>\n",
       "    <tr>\n",
       "      <th>2</th>\n",
       "      <td>5733be284776f41900661180</td>\n",
       "      <td>Vương Cung Thánh Đường của trái tim Thánh tại ...</td>\n",
       "      <td>translated</td>\n",
       "      <td>Về mặt kiến ​​trúc, trường có một nhân vật Côn...</td>\n",
       "      <td>Tòa nhà Chính</td>\n",
       "      <td>False</td>\n",
       "    </tr>\n",
       "    <tr>\n",
       "      <th>3</th>\n",
       "      <td>5733be284776f41900661181</td>\n",
       "      <td>các Grotto tại Notre Dame là gì?</td>\n",
       "      <td>translated</td>\n",
       "      <td>Về mặt kiến ​​trúc, trường có một nhân vật Côn...</td>\n",
       "      <td>một nơi Marian cầu nguyện và suy</td>\n",
       "      <td>False</td>\n",
       "    </tr>\n",
       "    <tr>\n",
       "      <th>4</th>\n",
       "      <td>5733be284776f41900661182</td>\n",
       "      <td>Mà đã bị cáo buộc Đức Trinh Nữ Maria xuất hiện...</td>\n",
       "      <td>translated</td>\n",
       "      <td>Về mặt kiến ​​trúc, trường có một nhân vật Côn...</td>\n",
       "      <td>Saint Bernadette Soubirous</td>\n",
       "      <td>False</td>\n",
       "    </tr>\n",
       "    <tr>\n",
       "      <th>...</th>\n",
       "      <td>...</td>\n",
       "      <td>...</td>\n",
       "      <td>...</td>\n",
       "      <td>...</td>\n",
       "      <td>...</td>\n",
       "      <td>...</td>\n",
       "    </tr>\n",
       "    <tr>\n",
       "      <th>49438</th>\n",
       "      <td>5ad28a57d7d075001a4299b3</td>\n",
       "      <td>Lực lượng bảo thủ thường gắn liền với việc chu...</td>\n",
       "      <td>Force</td>\n",
       "      <td>Lực lượng bảo thủ bao gồm những gì?</td>\n",
       "      <td>nonconservative forces</td>\n",
       "      <td>True</td>\n",
       "    </tr>\n",
       "    <tr>\n",
       "      <th>49439</th>\n",
       "      <td>5ad28ad0d7d075001a4299cc</td>\n",
       "      <td>Điều gì không có một đối tác số liệu?</td>\n",
       "      <td>Force</td>\n",
       "      <td>Lực lượng bảo thủ thường gắn liền với việc chu...</td>\n",
       "      <td>pound-force</td>\n",
       "      <td>True</td>\n",
       "    </tr>\n",
       "    <tr>\n",
       "      <th>49440</th>\n",
       "      <td>5ad28ad0d7d075001a4299cd</td>\n",
       "      <td>Điều gì không có một đối tác số liệu?</td>\n",
       "      <td>Force</td>\n",
       "      <td>Lực lượng bảo thủ thường gắn liền với việc chu...</td>\n",
       "      <td>kilogram-force</td>\n",
       "      <td>True</td>\n",
       "    </tr>\n",
       "    <tr>\n",
       "      <th>49441</th>\n",
       "      <td>5ad28ad0d7d075001a4299ce</td>\n",
       "      <td>Lực nào dẫn đến một đơn vị khối lượng thường đ...</td>\n",
       "      <td>Force</td>\n",
       "      <td>Lực lượng bảo thủ thường gắn liền với việc chu...</td>\n",
       "      <td>kilogram-force</td>\n",
       "      <td>True</td>\n",
       "    </tr>\n",
       "    <tr>\n",
       "      <th>49442</th>\n",
       "      <td>5ad28ad0d7d075001a4299cf</td>\n",
       "      <td>Lực nào dẫn đến một đơn vị khối lượng thường đ...</td>\n",
       "      <td>Force</td>\n",
       "      <td>Lực lượng bảo thủ thường gắn liền với việc chu...</td>\n",
       "      <td>kilogram-force</td>\n",
       "      <td>True</td>\n",
       "    </tr>\n",
       "  </tbody>\n",
       "</table>\n",
       "<p>170566 rows × 6 columns</p>\n",
       "</div>"
      ],
      "text/plain": [
       "                             id  \\\n",
       "0      5733be284776f4190066117e   \n",
       "1      5733be284776f4190066117f   \n",
       "2      5733be284776f41900661180   \n",
       "3      5733be284776f41900661181   \n",
       "4      5733be284776f41900661182   \n",
       "...                         ...   \n",
       "49438  5ad28a57d7d075001a4299b3   \n",
       "49439  5ad28ad0d7d075001a4299cc   \n",
       "49440  5ad28ad0d7d075001a4299cd   \n",
       "49441  5ad28ad0d7d075001a4299ce   \n",
       "49442  5ad28ad0d7d075001a4299cf   \n",
       "\n",
       "                                                question       title  \\\n",
       "0      Có gì ngồi trên đầu trang của Tòa nhà Chính tạ...  translated   \n",
       "1      là những gì ở phía trước của Notre Dame Tòa nh...  translated   \n",
       "2      Vương Cung Thánh Đường của trái tim Thánh tại ...  translated   \n",
       "3                       các Grotto tại Notre Dame là gì?  translated   \n",
       "4      Mà đã bị cáo buộc Đức Trinh Nữ Maria xuất hiện...  translated   \n",
       "...                                                  ...         ...   \n",
       "49438  Lực lượng bảo thủ thường gắn liền với việc chu...       Force   \n",
       "49439              Điều gì không có một đối tác số liệu?       Force   \n",
       "49440              Điều gì không có một đối tác số liệu?       Force   \n",
       "49441  Lực nào dẫn đến một đơn vị khối lượng thường đ...       Force   \n",
       "49442  Lực nào dẫn đến một đơn vị khối lượng thường đ...       Force   \n",
       "\n",
       "                                                    text  \\\n",
       "0      Về mặt kiến ​​trúc, trường có một nhân vật Côn...   \n",
       "1      Về mặt kiến ​​trúc, trường có một nhân vật Côn...   \n",
       "2      Về mặt kiến ​​trúc, trường có một nhân vật Côn...   \n",
       "3      Về mặt kiến ​​trúc, trường có một nhân vật Côn...   \n",
       "4      Về mặt kiến ​​trúc, trường có một nhân vật Côn...   \n",
       "...                                                  ...   \n",
       "49438                Lực lượng bảo thủ bao gồm những gì?   \n",
       "49439  Lực lượng bảo thủ thường gắn liền với việc chu...   \n",
       "49440  Lực lượng bảo thủ thường gắn liền với việc chu...   \n",
       "49441  Lực lượng bảo thủ thường gắn liền với việc chu...   \n",
       "49442  Lực lượng bảo thủ thường gắn liền với việc chu...   \n",
       "\n",
       "                                      answer  label  \n",
       "0      bức tượng vàng của Đức Trinh Nữ Maria  False  \n",
       "1           một bức tượng đồng của Chúa Kitô  False  \n",
       "2                              Tòa nhà Chính  False  \n",
       "3           một nơi Marian cầu nguyện và suy  False  \n",
       "4                 Saint Bernadette Soubirous  False  \n",
       "...                                      ...    ...  \n",
       "49438                 nonconservative forces   True  \n",
       "49439                            pound-force   True  \n",
       "49440                         kilogram-force   True  \n",
       "49441                         kilogram-force   True  \n",
       "49442                         kilogram-force   True  \n",
       "\n",
       "[170566 rows x 6 columns]"
      ]
     },
     "execution_count": 6,
     "metadata": {},
     "output_type": "execute_result"
    }
   ],
   "source": [
    "squad_data = pd.read_csv(\"data/squad_vi.csv\")\n",
    "squad_data = squad_data.append(pd.read_csv(\"data/squad_vi_part2.csv\"))\n",
    "squad_data = squad_data.append(pd.read_csv(\"data/squad_vi_v2.0.csv\"))\n",
    "squad_data"
   ]
  },
  {
   "cell_type": "markdown",
   "metadata": {},
   "source": [
    "# Data analysing"
   ]
  },
  {
   "cell_type": "code",
   "execution_count": 7,
   "metadata": {},
   "outputs": [
    {
     "data": {
      "text/plain": [
       "id          0\n",
       "question    0\n",
       "title       0\n",
       "text        0\n",
       "label       0\n",
       "dtype: int64"
      ]
     },
     "execution_count": 7,
     "metadata": {},
     "output_type": "execute_result"
    }
   ],
   "source": [
    "zalo_data.isna().sum()"
   ]
  },
  {
   "cell_type": "code",
   "execution_count": 8,
   "metadata": {},
   "outputs": [
    {
     "data": {
      "text/plain": [
       "<AxesSubplot:xlabel='dataset', ylabel='count'>"
      ]
     },
     "execution_count": 8,
     "metadata": {},
     "output_type": "execute_result"
    },
    {
     "data": {
      "image/png": "[encoded data removed]",
      "text/plain": [
       "<Figure size 432x288 with 1 Axes>"
      ]
     },
     "metadata": {
      "needs_background": "light"
     },
     "output_type": "display_data"
    }
   ],
   "source": [
    "label_count = pd.concat([\n",
    "    zalo_data.join(pd.Series(np.full(len(zalo_data), 'Zalo'), name='dataset'))[['dataset', 'label']],\n",
    "    squad_vn_data.join(pd.Series(np.full(len(squad_vn_data), 'SquadVN'), name='dataset'))[['dataset', 'label']],\n",
    "    squad_data.join(pd.Series(np.full(len(squad_data), 'Squad'), name='dataset'))[['dataset', 'label']]\n",
    "], axis = 0)\n",
    "sns.countplot(x='dataset', hue='label', data=label_count)"
   ]
  },
  {
   "cell_type": "code",
   "execution_count": 9,
   "metadata": {},
   "outputs": [
    {
     "data": {
      "image/png": "[encoded data removed]",
      "text/plain": [
       "<Figure size 432x288 with 1 Axes>"
      ]
     },
     "metadata": {
      "needs_background": "light"
     },
     "output_type": "display_data"
    }
   ],
   "source": [
    "question_count = pd.Series({'Zalo': zalo_data['question'].nunique(),\n",
    "                            'SquadVN': squad_vn_data['question'].nunique(),\n",
    "                            'Squad': squad_data['question'].nunique()})\n",
    "_, ax = plt.subplots()\n",
    "for i, v in enumerate(question_count):\n",
    "    ax.text(v + 2000, i, str(v), color='blue', fontweight='bold')\n",
    "plt.title('Number of questions')\n",
    "question_count.plot(kind='barh', xlim=(0, 170000)).invert_yaxis()"
   ]
  },
  {
   "cell_type": "code",
   "execution_count": 10,
   "metadata": {},
   "outputs": [
    {
     "data": {
      "image/png": "[encoded data removed]",
      "text/plain": [
       "<Figure size 432x288 with 1 Axes>"
      ]
     },
     "metadata": {
      "needs_background": "light"
     },
     "output_type": "display_data"
    }
   ],
   "source": [
    "paragraph_count = pd.Series({'Zalo': zalo_data['text'].nunique(),\n",
    "                            'SquadVN': squad_vn_data['text'].nunique(),\n",
    "                            'Squad': squad_data['text'].nunique()})\n",
    "_, ax = plt.subplots()\n",
    "for i, v in enumerate(paragraph_count):\n",
    "    ax.text(v + 1000, i, str(v), color='blue', fontweight='bold')\n",
    "plt.title('Number of paragraphs')\n",
    "paragraph_count.plot(kind='barh', xlim=(0, 25000)).invert_yaxis()"
   ]
  },
  {
   "cell_type": "code",
   "execution_count": 11,
   "metadata": {},
   "outputs": [
    {
     "data": {
      "image/png": "[encoded data removed]",
      "text/plain": [
       "<Figure size 432x288 with 1 Axes>"
      ]
     },
     "metadata": {
      "needs_background": "light"
     },
     "output_type": "display_data"
    }
   ],
   "source": [
    "title_count = pd.Series({'Zalo': zalo_data['title'].nunique(),\n",
    "                         'SquadVN': squad_vn_data['title'].nunique(),\n",
    "                         'Squad': squad_data['title'].nunique()})\n",
    "_, ax = plt.subplots()\n",
    "for i, v in enumerate(title_count):\n",
    "    ax.text(v + 200, i, str(v), color='blue', fontweight='bold')\n",
    "plt.title('Number of titles')\n",
    "title_count.plot(kind='barh', xlim=(0, 11000)).invert_yaxis()"
   ]
  },
  {
   "cell_type": "code",
   "execution_count": 12,
   "metadata": {},
   "outputs": [
    {
     "data": {
      "image/png": "[encoded data removed]",
      "text/plain": [
       "<Figure size 432x288 with 1 Axes>"
      ]
     },
     "metadata": {
      "needs_background": "light"
     },
     "output_type": "display_data"
    }
   ],
   "source": [
    "plt.title('Top 10 popular titles in Zalo dataset')\n",
    "plt.xlabel('Frequency')\n",
    "zalo_data['title'].value_counts()[1:11].plot(kind='barh').invert_yaxis()"
   ]
  },
  {
   "cell_type": "code",
   "execution_count": 13,
   "metadata": {},
   "outputs": [
    {
     "data": {
      "image/png": "[encoded data removed]",
      "text/plain": [
       "<Figure size 432x288 with 1 Axes>"
      ]
     },
     "metadata": {
      "needs_background": "light"
     },
     "output_type": "display_data"
    }
   ],
   "source": [
    "plt.title('Top 10 popular titles in SquadVN dataset')\n",
    "plt.xlabel('Frequency')\n",
    "squad_vn_data['title'].value_counts()[1:11].plot(kind='barh').invert_yaxis()"
   ]
  },
  {
   "cell_type": "code",
   "execution_count": 14,
   "metadata": {},
   "outputs": [
    {
     "data": {
      "image/png": "[encoded data removed]",
      "text/plain": [
       "<Figure size 432x288 with 1 Axes>"
      ]
     },
     "metadata": {
      "needs_background": "light"
     },
     "output_type": "display_data"
    }
   ],
   "source": [
    "plt.title('Top 10 popular titles in Squad dataset')\n",
    "plt.xlabel('Frequency')\n",
    "squad_data['title'].value_counts()[1:11].plot(kind='barh').invert_yaxis()"
   ]
  },
  {
   "cell_type": "code",
   "execution_count": 15,
   "metadata": {},
   "outputs": [
    {
     "data": {
      "text/plain": [
       "<AxesSubplot:title={'center':'Length of question (Zalo)'}, xlabel='Length', ylabel='Frequency'>"
      ]
     },
     "execution_count": 15,
     "metadata": {},
     "output_type": "execute_result"
    },
    {
     "data": {
      "image/png": "[encoded data removed]",
      "text/plain": [
       "<Figure size 432x288 with 1 Axes>"
      ]
     },
     "metadata": {
      "needs_background": "light"
     },
     "output_type": "display_data"
    }
   ],
   "source": [
    "plt.title('Length of question (Zalo)')\n",
    "plt.xlabel('Length')\n",
    "zalo_data['question'].str.split(' ').str.len().plot.hist(xlim=(0, 25), bins=20)"
   ]
  },
  {
   "cell_type": "code",
   "execution_count": 16,
   "metadata": {},
   "outputs": [
    {
     "data": {
      "text/plain": [
       "<AxesSubplot:title={'center':'Length of question in tokens (Zalo)'}, xlabel='Length', ylabel='Frequency'>"
      ]
     },
     "execution_count": 16,
     "metadata": {},
     "output_type": "execute_result"
    },
    {
     "data": {
      "image/png": "[encoded data removed]",
      "text/plain": [
       "<Figure size 432x288 with 1 Axes>"
      ]
     },
     "metadata": {
      "needs_background": "light"
     },
     "output_type": "display_data"
    }
   ],
   "source": [
    "import tokenizing\n",
    "plt.title('Length of question in tokens (Zalo)')\n",
    "plt.xlabel('Length')\n",
    "zalo_data['question'].apply(tokenizing.tokenize).str.len().plot.hist(xlim=(0, 25), bins=20)"
   ]
  },
  {
   "cell_type": "code",
   "execution_count": 17,
   "metadata": {},
   "outputs": [
    {
     "data": {
      "text/plain": [
       "<AxesSubplot:title={'center':'Length of question (SquadVN)'}, xlabel='Length', ylabel='Frequency'>"
      ]
     },
     "execution_count": 17,
     "metadata": {},
     "output_type": "execute_result"
    },
    {
     "data": {
      "image/png": "[encoded data removed]",
      "text/plain": [
       "<Figure size 432x288 with 1 Axes>"
      ]
     },
     "metadata": {
      "needs_background": "light"
     },
     "output_type": "display_data"
    }
   ],
   "source": [
    "plt.title('Length of question (SquadVN)')\n",
    "plt.xlabel('Length')\n",
    "squad_vn_data['question'].str.split(' ').str.len().plot.hist(xlim=(0, 30), bins=20)"
   ]
  },
  {
   "cell_type": "code",
   "execution_count": 18,
   "metadata": {},
   "outputs": [
    {
     "data": {
      "text/plain": [
       "<AxesSubplot:title={'center':'Length of question (Squad)'}, xlabel='Length', ylabel='Frequency'>"
      ]
     },
     "execution_count": 18,
     "metadata": {},
     "output_type": "execute_result"
    },
    {
     "data": {
      "image/png": "[encoded data removed]",
      "text/plain": [
       "<Figure size 432x288 with 1 Axes>"
      ]
     },
     "metadata": {
      "needs_background": "light"
     },
     "output_type": "display_data"
    }
   ],
   "source": [
    "plt.title('Length of question (Squad)')\n",
    "plt.xlabel('Length')\n",
    "squad_data['question'].str.split(' ').str.len().plot.hist(xlim=(0, 40), bins=20)"
   ]
  },
  {
   "cell_type": "code",
   "execution_count": 19,
   "metadata": {},
   "outputs": [
    {
     "data": {
      "image/png": "[encoded data removed]",
      "text/plain": [
       "<Figure size 432x288 with 1 Axes>"
      ]
     },
     "metadata": {
      "needs_background": "light"
     },
     "output_type": "display_data"
    }
   ],
   "source": [
    "question_len = pd.Series({'Zalo': zalo_data['question'].str.split(' ').str.len().mean(),\n",
    "                          'SquadVN': squad_vn_data['question'].str.split(' ').str.len().mean(),\n",
    "                          'Squad': squad_data['question'].str.split(' ').str.len().mean()})\n",
    "plt.title('Length of question')\n",
    "question_len.plot(kind='barh').invert_yaxis()"
   ]
  },
  {
   "cell_type": "code",
   "execution_count": 20,
   "metadata": {},
   "outputs": [
    {
     "data": {
      "text/plain": [
       "<AxesSubplot:title={'center':'Length of paragraph (Zalo)'}, xlabel='Length', ylabel='Frequency'>"
      ]
     },
     "execution_count": 20,
     "metadata": {},
     "output_type": "execute_result"
    },
    {
     "data": {
      "image/png": "[encoded data removed]",
      "text/plain": [
       "<Figure size 432x288 with 1 Axes>"
      ]
     },
     "metadata": {
      "needs_background": "light"
     },
     "output_type": "display_data"
    }
   ],
   "source": [
    "plt.title('Length of paragraph (Zalo)')\n",
    "plt.xlabel('Length')\n",
    "zalo_data['text'].str.split(' ').str.len().plot.hist(xlim=(0, 300), bins=100)"
   ]
  },
  {
   "cell_type": "code",
   "execution_count": 21,
   "metadata": {},
   "outputs": [
    {
     "data": {
      "text/plain": [
       "<AxesSubplot:title={'center':'Length of paragraph in tokens'}, xlabel='Length', ylabel='Frequency'>"
      ]
     },
     "execution_count": 21,
     "metadata": {},
     "output_type": "execute_result"
    },
    {
     "data": {
      "image/png": "[encoded data removed]",
      "text/plain": [
       "<Figure size 432x288 with 1 Axes>"
      ]
     },
     "metadata": {
      "needs_background": "light"
     },
     "output_type": "display_data"
    }
   ],
   "source": [
    "plt.title('Length of paragraph in tokens')\n",
    "plt.xlabel('Length')\n",
    "zalo_data['text'].apply(tokenizing.tokenize).str.len().plot.hist(xlim=(0, 300), bins=100)"
   ]
  },
  {
   "cell_type": "code",
   "execution_count": 22,
   "metadata": {},
   "outputs": [
    {
     "data": {
      "text/plain": [
       "<AxesSubplot:title={'center':'Length of paragraph (SquadVN)'}, xlabel='Length', ylabel='Frequency'>"
      ]
     },
     "execution_count": 22,
     "metadata": {},
     "output_type": "execute_result"
    },
    {
     "data": {
      "image/png": "[encoded data removed]",
      "text/plain": [
       "<Figure size 432x288 with 1 Axes>"
      ]
     },
     "metadata": {
      "needs_background": "light"
     },
     "output_type": "display_data"
    }
   ],
   "source": [
    "plt.title('Length of paragraph (SquadVN)')\n",
    "plt.xlabel('Length')\n",
    "squad_vn_data['text'].str.split(' ').str.len().plot.hist(xlim=(0, 700), bins=100)"
   ]
  },
  {
   "cell_type": "code",
   "execution_count": 23,
   "metadata": {},
   "outputs": [
    {
     "data": {
      "text/plain": [
       "<AxesSubplot:title={'center':'Length of paragraph (Squad)'}, xlabel='Length', ylabel='Frequency'>"
      ]
     },
     "execution_count": 23,
     "metadata": {},
     "output_type": "execute_result"
    },
    {
     "data": {
      "image/png": "[encoded data removed]",
      "text/plain": [
       "<Figure size 432x288 with 1 Axes>"
      ]
     },
     "metadata": {
      "needs_background": "light"
     },
     "output_type": "display_data"
    }
   ],
   "source": [
    "plt.title('Length of paragraph (Squad)')\n",
    "plt.xlabel('Length')\n",
    "squad_data['text'].str.split(' ').str.len().plot.hist(xlim=(0, 500), bins=100)"
   ]
  },
  {
   "cell_type": "code",
   "execution_count": 25,
   "metadata": {},
   "outputs": [
    {
     "data": {
      "image/png": "[encoded data removed]",
      "text/plain": [
       "<Figure size 432x288 with 1 Axes>"
      ]
     },
     "metadata": {
      "needs_background": "light"
     },
     "output_type": "display_data"
    }
   ],
   "source": [
    "paragraph_len = pd.Series({'Zalo': zalo_data['text'].str.split(' ').str.len().mean(),\n",
    "                          'SquadVN': squad_vn_data['text'].str.split(' ').str.len().mean(),\n",
    "                          'Squad': squad_data['text'].str.split(' ').str.len().mean()})\n",
    "plt.title('Length of paragraph')\n",
    "paragraph_len.plot(kind='barh').invert_yaxis()"
   ]
  },
  {
   "cell_type": "code",
   "execution_count": null,
   "metadata": {},
   "outputs": [],
   "source": []
  },
  {
   "cell_type": "code",
   "execution_count": null,
   "metadata": {},
   "outputs": [],
   "source": []
  }
 ],
 "metadata": {
  "kernelspec": {
   "display_name": "Python 3",
   "language": "python",
   "name": "python3"
  },
  "language_info": {
   "codemirror_mode": {
    "name": "ipython",
    "version": 3
   },
   "file_extension": ".py",
   "mimetype": "text/x-python",
   "name": "python",
   "nbconvert_exporter": "python",
   "pygments_lexer": "ipython3",
   "version": "3.9.0"
  }
 },
 "nbformat": 4,
 "nbformat_minor": 4
}
