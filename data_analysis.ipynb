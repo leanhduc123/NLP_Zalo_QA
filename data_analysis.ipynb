{
 "cells": [
  {
   "cell_type": "markdown",
   "metadata": {
    "toc": true
   },
   "source": [
    "<h1>Table of Contents<span class=\"tocSkip\"></span></h1>\n",
    "<div class=\"toc\"><ul class=\"toc-item\"><li><span><a href=\"#Clone-the-repo\" data-toc-modified-id=\"Clone-the-repo-1\"><span class=\"toc-item-num\">1&nbsp;&nbsp;</span>Clone the repo</a></span></li><li><span><a href=\"#Load-data\" data-toc-modified-id=\"Load-data-2\"><span class=\"toc-item-num\">2&nbsp;&nbsp;</span>Load data</a></span></li><li><span><a href=\"#Inspect-data\" data-toc-modified-id=\"Inspect-data-3\"><span class=\"toc-item-num\">3&nbsp;&nbsp;</span>Inspect data</a></span></li></ul></div>"
   ]
  },
  {
   "cell_type": "code",
   "execution_count": 1,
   "metadata": {
    "ExecuteTime": {
     "end_time": "2020-11-09T18:44:29.661100Z",
     "start_time": "2020-11-09T18:44:27.856030Z"
    }
   },
   "outputs": [],
   "source": [
    "import numpy as np\n",
    "import pandas as pd\n",
    "import seaborn as sns\n",
    "import matplotlib.pyplot as plt\n",
    "from utils import data_loading"
   ]
  },
  {
   "cell_type": "markdown",
   "metadata": {
    "id": "_tS0rjTVZIk-"
   },
   "source": [
    "# Clone the repo"
   ]
  },
  {
   "cell_type": "code",
   "execution_count": 2,
   "metadata": {
    "ExecuteTime": {
     "end_time": "2020-11-09T18:44:30.575883Z",
     "start_time": "2020-11-09T18:44:30.570847Z"
    },
    "colab": {
     "base_uri": "https://localhost:8080/"
    },
    "id": "qDB0D_pfYJs8",
    "outputId": "d3c0b8d1-46ba-4010-878b-49cf93cd0712"
   },
   "outputs": [],
   "source": [
    "# Clone the entire repo.\n",
    "# !git clone -b data-inspecting --single-branch https://github.com/NewLuminous/Zalo-Vietnamese-Wiki-QA.git zaloqa\n",
    "# %cd zaloqa\n",
    "# !ls"
   ]
  },
  {
   "cell_type": "markdown",
   "metadata": {
    "id": "gRKbkEMeZQm0"
   },
   "source": [
    "# Load data"
   ]
  },
  {
   "cell_type": "code",
   "execution_count": 3,
   "metadata": {
    "ExecuteTime": {
     "end_time": "2020-11-09T18:38:48.135122Z",
     "start_time": "2020-11-09T18:38:47.921124Z"
    },
    "colab": {
     "base_uri": "https://localhost:8080/",
     "height": 570
    },
    "id": "ZtmWtowukxW-",
    "outputId": "ccf9b72e-aeda-47df-dd72-5dde409ce307"
   },
   "outputs": [
    {
     "data": {
      "text/html": [
       "<div>\n",
       "<style scoped>\n",
       "    .dataframe tbody tr th:only-of-type {\n",
       "        vertical-align: middle;\n",
       "    }\n",
       "\n",
       "    .dataframe tbody tr th {\n",
       "        vertical-align: top;\n",
       "    }\n",
       "\n",
       "    .dataframe thead th {\n",
       "        text-align: right;\n",
       "    }\n",
       "</style>\n",
       "<table border=\"1\" class=\"dataframe\">\n",
       "  <thead>\n",
       "    <tr style=\"text-align: right;\">\n",
       "      <th></th>\n",
       "      <th>id</th>\n",
       "      <th>question</th>\n",
       "      <th>title</th>\n",
       "      <th>text</th>\n",
       "      <th>label</th>\n",
       "    </tr>\n",
       "  </thead>\n",
       "  <tbody>\n",
       "    <tr>\n",
       "      <th>0</th>\n",
       "      <td>u7-1570446247_1</td>\n",
       "      <td>Quang Hải giành được chức vô địch U21 quốc gia...</td>\n",
       "      <td>Nguyễn Quang Hải (sinh 1997)</td>\n",
       "      <td>Năm 2013 , Nguyễn Quang Hải giành chức vô địch...</td>\n",
       "      <td>True</td>\n",
       "    </tr>\n",
       "    <tr>\n",
       "      <th>1</th>\n",
       "      <td>u7-1570446247_2</td>\n",
       "      <td>Quang Hải giành được chức vô địch U21 quốc gia...</td>\n",
       "      <td>Nguyễn Quang Hải (sinh 1997)</td>\n",
       "      <td>Sau chức vô địch U-21 quốc gia 2013 , Nguyễn Q...</td>\n",
       "      <td>True</td>\n",
       "    </tr>\n",
       "    <tr>\n",
       "      <th>2</th>\n",
       "      <td>u7-1570446247_0</td>\n",
       "      <td>Quang Hải giành được chức vô địch U21 quốc gia...</td>\n",
       "      <td>Nguyễn Quang Hải (sinh 1997)</td>\n",
       "      <td>Anh bắt đầu gia nhập lò đào tạo trẻ Hà Nội T&amp;T...</td>\n",
       "      <td>False</td>\n",
       "    </tr>\n",
       "    <tr>\n",
       "      <th>3</th>\n",
       "      <td>u7-1570446247_3</td>\n",
       "      <td>Quang Hải giành được chức vô địch U21 quốc gia...</td>\n",
       "      <td>Nguyễn Quang Hải (sinh 1997)</td>\n",
       "      <td>Năm 2011 , Nguyễn Quang Hải mới 14 tuổi được g...</td>\n",
       "      <td>False</td>\n",
       "    </tr>\n",
       "    <tr>\n",
       "      <th>4</th>\n",
       "      <td>u7-1570445661_0</td>\n",
       "      <td>Mỗi hiệp bóng đá kéo dài bao lâu</td>\n",
       "      <td>Bóng đá</td>\n",
       "      <td>Một trận đấu bóng đá thông thường có hai hiệp ...</td>\n",
       "      <td>True</td>\n",
       "    </tr>\n",
       "    <tr>\n",
       "      <th>...</th>\n",
       "      <td>...</td>\n",
       "      <td>...</td>\n",
       "      <td>...</td>\n",
       "      <td>...</td>\n",
       "      <td>...</td>\n",
       "    </tr>\n",
       "    <tr>\n",
       "      <th>18103</th>\n",
       "      <td>u6-1551268099_0</td>\n",
       "      <td>Thành phố nào là thủ đô của Costa Rica</td>\n",
       "      <td>San José, Costa Rica</td>\n",
       "      <td>San José (tiếng Tây Ban Nha: San José; ) là th...</td>\n",
       "      <td>True</td>\n",
       "    </tr>\n",
       "    <tr>\n",
       "      <th>18104</th>\n",
       "      <td>u6-1551268099_1</td>\n",
       "      <td>Thành phố nào là thủ đô của Costa Rica</td>\n",
       "      <td>Costa Rica</td>\n",
       "      <td>Vì Costa Rica có địa hình đa dạng nhiều núi no...</td>\n",
       "      <td>True</td>\n",
       "    </tr>\n",
       "    <tr>\n",
       "      <th>18105</th>\n",
       "      <td>u6-1551268099_2</td>\n",
       "      <td>Thành phố nào là thủ đô của Costa Rica</td>\n",
       "      <td>San José, Costa Rica</td>\n",
       "      <td>Với địa vị là thủ đô, San José là nơi đặt trụ ...</td>\n",
       "      <td>True</td>\n",
       "    </tr>\n",
       "    <tr>\n",
       "      <th>18106</th>\n",
       "      <td>u6-1551268099_4</td>\n",
       "      <td>Thành phố nào là thủ đô của Costa Rica</td>\n",
       "      <td>Santa Teresa, Costa Rica</td>\n",
       "      <td>Santa Teresa là một thị xã nhỏ ở tỉnh Puntaren...</td>\n",
       "      <td>True</td>\n",
       "    </tr>\n",
       "    <tr>\n",
       "      <th>18107</th>\n",
       "      <td>u6-1551268099_3</td>\n",
       "      <td>Thành phố nào là thủ đô của Costa Rica</td>\n",
       "      <td>Cartago (tỉnh)</td>\n",
       "      <td>Cartago là một tỉnh của Costa Rica. Tỉnh này n...</td>\n",
       "      <td>False</td>\n",
       "    </tr>\n",
       "  </tbody>\n",
       "</table>\n",
       "<p>18108 rows × 5 columns</p>\n",
       "</div>"
      ],
      "text/plain": [
       "                    id                                           question  \\\n",
       "0      u7-1570446247_1  Quang Hải giành được chức vô địch U21 quốc gia...   \n",
       "1      u7-1570446247_2  Quang Hải giành được chức vô địch U21 quốc gia...   \n",
       "2      u7-1570446247_0  Quang Hải giành được chức vô địch U21 quốc gia...   \n",
       "3      u7-1570446247_3  Quang Hải giành được chức vô địch U21 quốc gia...   \n",
       "4      u7-1570445661_0                   Mỗi hiệp bóng đá kéo dài bao lâu   \n",
       "...                ...                                                ...   \n",
       "18103  u6-1551268099_0             Thành phố nào là thủ đô của Costa Rica   \n",
       "18104  u6-1551268099_1             Thành phố nào là thủ đô của Costa Rica   \n",
       "18105  u6-1551268099_2             Thành phố nào là thủ đô của Costa Rica   \n",
       "18106  u6-1551268099_4             Thành phố nào là thủ đô của Costa Rica   \n",
       "18107  u6-1551268099_3             Thành phố nào là thủ đô của Costa Rica   \n",
       "\n",
       "                              title  \\\n",
       "0      Nguyễn Quang Hải (sinh 1997)   \n",
       "1      Nguyễn Quang Hải (sinh 1997)   \n",
       "2      Nguyễn Quang Hải (sinh 1997)   \n",
       "3      Nguyễn Quang Hải (sinh 1997)   \n",
       "4                           Bóng đá   \n",
       "...                             ...   \n",
       "18103          San José, Costa Rica   \n",
       "18104                    Costa Rica   \n",
       "18105          San José, Costa Rica   \n",
       "18106      Santa Teresa, Costa Rica   \n",
       "18107                Cartago (tỉnh)   \n",
       "\n",
       "                                                    text  label  \n",
       "0      Năm 2013 , Nguyễn Quang Hải giành chức vô địch...   True  \n",
       "1      Sau chức vô địch U-21 quốc gia 2013 , Nguyễn Q...   True  \n",
       "2      Anh bắt đầu gia nhập lò đào tạo trẻ Hà Nội T&T...  False  \n",
       "3      Năm 2011 , Nguyễn Quang Hải mới 14 tuổi được g...  False  \n",
       "4      Một trận đấu bóng đá thông thường có hai hiệp ...   True  \n",
       "...                                                  ...    ...  \n",
       "18103  San José (tiếng Tây Ban Nha: San José; ) là th...   True  \n",
       "18104  Vì Costa Rica có địa hình đa dạng nhiều núi no...   True  \n",
       "18105  Với địa vị là thủ đô, San José là nơi đặt trụ ...   True  \n",
       "18106  Santa Teresa là một thị xã nhỏ ở tỉnh Puntaren...   True  \n",
       "18107  Cartago là một tỉnh của Costa Rica. Tỉnh này n...  False  \n",
       "\n",
       "[18108 rows x 5 columns]"
      ]
     },
     "execution_count": 3,
     "metadata": {},
     "output_type": "execute_result"
    }
   ],
   "source": [
    "zalo_loader = data_loading.ZaloLoader()\n",
    "zalo_data = zalo_loader.read_csv(\"data/zaloai/train.csv\")\n",
    "zalo_data"
   ]
  },
  {
   "cell_type": "code",
   "execution_count": 4,
   "metadata": {
    "ExecuteTime": {
     "end_time": "2020-11-09T18:38:48.386115Z",
     "start_time": "2020-11-09T18:38:48.137118Z"
    }
   },
   "outputs": [
    {
     "data": {
      "text/html": [
       "<div>\n",
       "<style scoped>\n",
       "    .dataframe tbody tr th:only-of-type {\n",
       "        vertical-align: middle;\n",
       "    }\n",
       "\n",
       "    .dataframe tbody tr th {\n",
       "        vertical-align: top;\n",
       "    }\n",
       "\n",
       "    .dataframe thead th {\n",
       "        text-align: right;\n",
       "    }\n",
       "</style>\n",
       "<table border=\"1\" class=\"dataframe\">\n",
       "  <thead>\n",
       "    <tr style=\"text-align: right;\">\n",
       "      <th></th>\n",
       "      <th>id</th>\n",
       "      <th>question</th>\n",
       "      <th>title</th>\n",
       "      <th>text</th>\n",
       "      <th>answer</th>\n",
       "      <th>label</th>\n",
       "    </tr>\n",
       "  </thead>\n",
       "  <tbody>\n",
       "    <tr>\n",
       "      <th>0</th>\n",
       "      <td>37bce7cfc34d4bf9b81e340c5345384c</td>\n",
       "      <td>Ai là thủ tướng Ấn Độ hiện tại</td>\n",
       "      <td>Ai là thủ tướng Ấn Độ hiện tại</td>\n",
       "      <td>Thủ tướng Ấn Độ sắp sang Mỹ gặp ông Trump mua ...</td>\n",
       "      <td>NaN</td>\n",
       "      <td>False</td>\n",
       "    </tr>\n",
       "    <tr>\n",
       "      <th>1</th>\n",
       "      <td>8af074fb95c941b485c120e2ddbcc7c8</td>\n",
       "      <td>Ai là thủ tướng Ấn Độ hiện tại</td>\n",
       "      <td>Ai là thủ tướng Ấn Độ hiện tại</td>\n",
       "      <td>Narendra Damodardas Modi ( tiếng Gujarat : નરે...</td>\n",
       "      <td>Narendra Damodardas Modi</td>\n",
       "      <td>True</td>\n",
       "    </tr>\n",
       "    <tr>\n",
       "      <th>2</th>\n",
       "      <td>4d8ce4afc5ed4364ad70fc4384eff08b</td>\n",
       "      <td>Ai là thủ tướng Ấn Độ hiện tại</td>\n",
       "      <td>Ai là thủ tướng Ấn Độ hiện tại</td>\n",
       "      <td>- Google hôm 3/6 đã xin lỗi Thủ tướng Ấn Độ Na...</td>\n",
       "      <td>Narendra Modi</td>\n",
       "      <td>True</td>\n",
       "    </tr>\n",
       "    <tr>\n",
       "      <th>3</th>\n",
       "      <td>ded17c6beaa746eebe531b3dd2b0f573</td>\n",
       "      <td>Ai là thủ tướng Ấn Độ hiện tại</td>\n",
       "      <td>Ai là thủ tướng Ấn Độ hiện tại</td>\n",
       "      <td>thủ tướng thăm Ấn Độ Nguyễn Xuân Phúc ASEAN th...</td>\n",
       "      <td>NaN</td>\n",
       "      <td>False</td>\n",
       "    </tr>\n",
       "    <tr>\n",
       "      <th>4</th>\n",
       "      <td>4e03f08a78b744a48f0f380441a227f4</td>\n",
       "      <td>Ai là thủ tướng Ấn Độ hiện tại</td>\n",
       "      <td>Ai là thủ tướng Ấn Độ hiện tại</td>\n",
       "      <td>Tin tức về chủ đề \" Thủ tướng Ấn Độ Narendra M...</td>\n",
       "      <td>Narendra Modi</td>\n",
       "      <td>True</td>\n",
       "    </tr>\n",
       "    <tr>\n",
       "      <th>...</th>\n",
       "      <td>...</td>\n",
       "      <td>...</td>\n",
       "      <td>...</td>\n",
       "      <td>...</td>\n",
       "      <td>...</td>\n",
       "      <td>...</td>\n",
       "    </tr>\n",
       "    <tr>\n",
       "      <th>506</th>\n",
       "      <td>b39af081552fd68b0ebd27ed4c6d3eff2fe21c73</td>\n",
       "      <td>King đã ủng hộ kiểu phản kháng nào?</td>\n",
       "      <td>Martin Luther King</td>\n",
       "      <td>King dẫn dắt cuộc tẩy chay xe buýt diễn ra ở M...</td>\n",
       "      <td>bất bạo động</td>\n",
       "      <td>True</td>\n",
       "    </tr>\n",
       "    <tr>\n",
       "      <th>507</th>\n",
       "      <td>dfebac6881c14d776ea7e1fa936a965e6304273f</td>\n",
       "      <td>Tên ban đầu của Osechi là gì?</td>\n",
       "      <td>Osechi</td>\n",
       "      <td>Nguyên thủy, osechi gọi là o-sechi với o là mộ...</td>\n",
       "      <td>o-sechi</td>\n",
       "      <td>True</td>\n",
       "    </tr>\n",
       "    <tr>\n",
       "      <th>508</th>\n",
       "      <td>6a982661b194bdecc6711e9ede5cf6b893ab1474</td>\n",
       "      <td>Dickens đã viết gì trong lời nói đầu năm 1876?</td>\n",
       "      <td>David Copperfield (tiểu thuyết)</td>\n",
       "      <td>David Copperfield là một tiểu thuyết của Charl...</td>\n",
       "      <td>như những bậc cha mẹ nâng niu con cái, tôi ôm ...</td>\n",
       "      <td>True</td>\n",
       "    </tr>\n",
       "    <tr>\n",
       "      <th>509</th>\n",
       "      <td>244b552d2f8e850eb0b88d4c7440c575639fa911</td>\n",
       "      <td>Stephen Harper có vai trò gì trong chính phủ?</td>\n",
       "      <td>David Lloyd Johnston</td>\n",
       "      <td>David Lloyd Johnston là một nhà chính trị Cana...</td>\n",
       "      <td>Thủ tướng</td>\n",
       "      <td>True</td>\n",
       "    </tr>\n",
       "    <tr>\n",
       "      <th>510</th>\n",
       "      <td>4716c0c31202186e963a12a50143d48978f8a0a2</td>\n",
       "      <td>Khách sạn nào được quay mùa 3?</td>\n",
       "      <td>Criss Angel</td>\n",
       "      <td>Criss Angel là ngôi sao và cũng là người dàn d...</td>\n",
       "      <td>khách sạn Luxor</td>\n",
       "      <td>True</td>\n",
       "    </tr>\n",
       "  </tbody>\n",
       "</table>\n",
       "<p>9460 rows × 6 columns</p>\n",
       "</div>"
      ],
      "text/plain": [
       "                                           id  \\\n",
       "0            37bce7cfc34d4bf9b81e340c5345384c   \n",
       "1            8af074fb95c941b485c120e2ddbcc7c8   \n",
       "2            4d8ce4afc5ed4364ad70fc4384eff08b   \n",
       "3            ded17c6beaa746eebe531b3dd2b0f573   \n",
       "4            4e03f08a78b744a48f0f380441a227f4   \n",
       "..                                        ...   \n",
       "506  b39af081552fd68b0ebd27ed4c6d3eff2fe21c73   \n",
       "507  dfebac6881c14d776ea7e1fa936a965e6304273f   \n",
       "508  6a982661b194bdecc6711e9ede5cf6b893ab1474   \n",
       "509  244b552d2f8e850eb0b88d4c7440c575639fa911   \n",
       "510  4716c0c31202186e963a12a50143d48978f8a0a2   \n",
       "\n",
       "                                           question  \\\n",
       "0                    Ai là thủ tướng Ấn Độ hiện tại   \n",
       "1                    Ai là thủ tướng Ấn Độ hiện tại   \n",
       "2                    Ai là thủ tướng Ấn Độ hiện tại   \n",
       "3                    Ai là thủ tướng Ấn Độ hiện tại   \n",
       "4                    Ai là thủ tướng Ấn Độ hiện tại   \n",
       "..                                              ...   \n",
       "506             King đã ủng hộ kiểu phản kháng nào?   \n",
       "507                   Tên ban đầu của Osechi là gì?   \n",
       "508  Dickens đã viết gì trong lời nói đầu năm 1876?   \n",
       "509   Stephen Harper có vai trò gì trong chính phủ?   \n",
       "510                  Khách sạn nào được quay mùa 3?   \n",
       "\n",
       "                               title  \\\n",
       "0     Ai là thủ tướng Ấn Độ hiện tại   \n",
       "1     Ai là thủ tướng Ấn Độ hiện tại   \n",
       "2     Ai là thủ tướng Ấn Độ hiện tại   \n",
       "3     Ai là thủ tướng Ấn Độ hiện tại   \n",
       "4     Ai là thủ tướng Ấn Độ hiện tại   \n",
       "..                               ...   \n",
       "506               Martin Luther King   \n",
       "507                           Osechi   \n",
       "508  David Copperfield (tiểu thuyết)   \n",
       "509             David Lloyd Johnston   \n",
       "510                      Criss Angel   \n",
       "\n",
       "                                                  text  \\\n",
       "0    Thủ tướng Ấn Độ sắp sang Mỹ gặp ông Trump mua ...   \n",
       "1    Narendra Damodardas Modi ( tiếng Gujarat : નરે...   \n",
       "2    - Google hôm 3/6 đã xin lỗi Thủ tướng Ấn Độ Na...   \n",
       "3    thủ tướng thăm Ấn Độ Nguyễn Xuân Phúc ASEAN th...   \n",
       "4    Tin tức về chủ đề \" Thủ tướng Ấn Độ Narendra M...   \n",
       "..                                                 ...   \n",
       "506  King dẫn dắt cuộc tẩy chay xe buýt diễn ra ở M...   \n",
       "507  Nguyên thủy, osechi gọi là o-sechi với o là mộ...   \n",
       "508  David Copperfield là một tiểu thuyết của Charl...   \n",
       "509  David Lloyd Johnston là một nhà chính trị Cana...   \n",
       "510  Criss Angel là ngôi sao và cũng là người dàn d...   \n",
       "\n",
       "                                                answer  label  \n",
       "0                                                  NaN  False  \n",
       "1                             Narendra Damodardas Modi   True  \n",
       "2                                        Narendra Modi   True  \n",
       "3                                                  NaN  False  \n",
       "4                                        Narendra Modi   True  \n",
       "..                                                 ...    ...  \n",
       "506                                       bất bạo động   True  \n",
       "507                                            o-sechi   True  \n",
       "508  như những bậc cha mẹ nâng niu con cái, tôi ôm ...   True  \n",
       "509                                          Thủ tướng   True  \n",
       "510                                    khách sạn Luxor   True  \n",
       "\n",
       "[9460 rows x 6 columns]"
      ]
     },
     "execution_count": 4,
     "metadata": {},
     "output_type": "execute_result"
    }
   ],
   "source": [
    "squad_vn_loader = data_loading.SquadLoader()\n",
    "squad_vn_data = squad_vn_loader.read_csv(\"data/mailong25/squad-v2.0-mailong25.csv\")\n",
    "squad_vn_data = squad_vn_loader.read_csv(\"data/facebook/test-context-vi-question-vi_fb.csv\")\n",
    "squad_vn_data = squad_vn_loader.read_csv(\"data/facebook/dev-context-vi-question-vi_fb.csv\")\n",
    "squad_vn_data"
   ]
  },
  {
   "cell_type": "code",
   "execution_count": 5,
   "metadata": {
    "ExecuteTime": {
     "end_time": "2020-11-09T18:38:50.248124Z",
     "start_time": "2020-11-09T18:38:48.389130Z"
    }
   },
   "outputs": [
    {
     "data": {
      "text/html": [
       "<div>\n",
       "<style scoped>\n",
       "    .dataframe tbody tr th:only-of-type {\n",
       "        vertical-align: middle;\n",
       "    }\n",
       "\n",
       "    .dataframe tbody tr th {\n",
       "        vertical-align: top;\n",
       "    }\n",
       "\n",
       "    .dataframe thead th {\n",
       "        text-align: right;\n",
       "    }\n",
       "</style>\n",
       "<table border=\"1\" class=\"dataframe\">\n",
       "  <thead>\n",
       "    <tr style=\"text-align: right;\">\n",
       "      <th></th>\n",
       "      <th>id</th>\n",
       "      <th>question</th>\n",
       "      <th>title</th>\n",
       "      <th>text</th>\n",
       "      <th>answer</th>\n",
       "      <th>label</th>\n",
       "    </tr>\n",
       "  </thead>\n",
       "  <tbody>\n",
       "    <tr>\n",
       "      <th>0</th>\n",
       "      <td>56be85543aeaaa14008c9063</td>\n",
       "      <td>Beyonce bắt đầu nổi tiếng khi nào?</td>\n",
       "      <td>NaN</td>\n",
       "      <td>Beyoncé Giselle Knowles-Carter (/ biːˈjɒnseɪ /...</td>\n",
       "      <td>in the late 1990s</td>\n",
       "      <td>True</td>\n",
       "    </tr>\n",
       "    <tr>\n",
       "      <th>1</th>\n",
       "      <td>56be85543aeaaa14008c9065</td>\n",
       "      <td>Beyonce đã cạnh tranh trong lĩnh vực nào khi c...</td>\n",
       "      <td>NaN</td>\n",
       "      <td>Beyoncé Giselle Knowles-Carter (/ biːˈjɒnseɪ /...</td>\n",
       "      <td>singing and dancing</td>\n",
       "      <td>True</td>\n",
       "    </tr>\n",
       "    <tr>\n",
       "      <th>2</th>\n",
       "      <td>56be85543aeaaa14008c9066</td>\n",
       "      <td>Khi nào Beyonce rời Destiny's Child và trở thà...</td>\n",
       "      <td>NaN</td>\n",
       "      <td>Beyoncé Giselle Knowles-Carter (/ biːˈjɒnseɪ /...</td>\n",
       "      <td>2003</td>\n",
       "      <td>True</td>\n",
       "    </tr>\n",
       "    <tr>\n",
       "      <th>3</th>\n",
       "      <td>56bf6b0f3aeaaa14008c9601</td>\n",
       "      <td>Beyonce lớn lên ở thành phố và tiểu bang nào?</td>\n",
       "      <td>NaN</td>\n",
       "      <td>Beyoncé Giselle Knowles-Carter (/ biːˈjɒnseɪ /...</td>\n",
       "      <td>Houston, Texas</td>\n",
       "      <td>True</td>\n",
       "    </tr>\n",
       "    <tr>\n",
       "      <th>4</th>\n",
       "      <td>56bf6b0f3aeaaa14008c9602</td>\n",
       "      <td>Beyonce trở nên nổi tiếng vào thập kỷ nào?</td>\n",
       "      <td>NaN</td>\n",
       "      <td>Beyoncé Giselle Knowles-Carter (/ biːˈjɒnseɪ /...</td>\n",
       "      <td>late 1990s</td>\n",
       "      <td>True</td>\n",
       "    </tr>\n",
       "    <tr>\n",
       "      <th>...</th>\n",
       "      <td>...</td>\n",
       "      <td>...</td>\n",
       "      <td>...</td>\n",
       "      <td>...</td>\n",
       "      <td>...</td>\n",
       "      <td>...</td>\n",
       "    </tr>\n",
       "    <tr>\n",
       "      <th>11868</th>\n",
       "      <td>5737aafd1c456719005744ff</td>\n",
       "      <td>Đơn vị lực ít khi được sử dụng bằng một nghìn ...</td>\n",
       "      <td>Lực lượng</td>\n",
       "      <td>Lực pound có một đối trọng hệ mét, ít được sử ...</td>\n",
       "      <td>sthène</td>\n",
       "      <td>True</td>\n",
       "    </tr>\n",
       "    <tr>\n",
       "      <th>11869</th>\n",
       "      <td>5ad28ad0d7d075001a4299cc</td>\n",
       "      <td>Những gì không có một đối tác số liệu?</td>\n",
       "      <td>Lực lượng</td>\n",
       "      <td>Lực pound có một đối trọng hệ mét, ít được sử ...</td>\n",
       "      <td>pound-force</td>\n",
       "      <td>False</td>\n",
       "    </tr>\n",
       "    <tr>\n",
       "      <th>11870</th>\n",
       "      <td>5ad28ad0d7d075001a4299cd</td>\n",
       "      <td>Lực do trọng lực tiêu chuẩn tác dụng lên một t...</td>\n",
       "      <td>Lực lượng</td>\n",
       "      <td>Lực pound có một đối trọng hệ mét, ít được sử ...</td>\n",
       "      <td>kilogram-force</td>\n",
       "      <td>False</td>\n",
       "    </tr>\n",
       "    <tr>\n",
       "      <th>11871</th>\n",
       "      <td>5ad28ad0d7d075001a4299ce</td>\n",
       "      <td>Lực nào dẫn đến một đơn vị khối lượng thường d...</td>\n",
       "      <td>Lực lượng</td>\n",
       "      <td>Lực pound có một đối trọng hệ mét, ít được sử ...</td>\n",
       "      <td>kilogram-force</td>\n",
       "      <td>False</td>\n",
       "    </tr>\n",
       "    <tr>\n",
       "      <th>11872</th>\n",
       "      <td>5ad28ad0d7d075001a4299cf</td>\n",
       "      <td>Lực nào là một phần của hệ SI hiện đại?</td>\n",
       "      <td>Lực lượng</td>\n",
       "      <td>Lực pound có một đối trọng hệ mét, ít được sử ...</td>\n",
       "      <td>kilogram-force</td>\n",
       "      <td>False</td>\n",
       "    </tr>\n",
       "  </tbody>\n",
       "</table>\n",
       "<p>141979 rows × 6 columns</p>\n",
       "</div>"
      ],
      "text/plain": [
       "                             id  \\\n",
       "0      56be85543aeaaa14008c9063   \n",
       "1      56be85543aeaaa14008c9065   \n",
       "2      56be85543aeaaa14008c9066   \n",
       "3      56bf6b0f3aeaaa14008c9601   \n",
       "4      56bf6b0f3aeaaa14008c9602   \n",
       "...                         ...   \n",
       "11868  5737aafd1c456719005744ff   \n",
       "11869  5ad28ad0d7d075001a4299cc   \n",
       "11870  5ad28ad0d7d075001a4299cd   \n",
       "11871  5ad28ad0d7d075001a4299ce   \n",
       "11872  5ad28ad0d7d075001a4299cf   \n",
       "\n",
       "                                                question      title  \\\n",
       "0                     Beyonce bắt đầu nổi tiếng khi nào?        NaN   \n",
       "1      Beyonce đã cạnh tranh trong lĩnh vực nào khi c...        NaN   \n",
       "2      Khi nào Beyonce rời Destiny's Child và trở thà...        NaN   \n",
       "3          Beyonce lớn lên ở thành phố và tiểu bang nào?        NaN   \n",
       "4             Beyonce trở nên nổi tiếng vào thập kỷ nào?        NaN   \n",
       "...                                                  ...        ...   \n",
       "11868  Đơn vị lực ít khi được sử dụng bằng một nghìn ...  Lực lượng   \n",
       "11869             Những gì không có một đối tác số liệu?  Lực lượng   \n",
       "11870  Lực do trọng lực tiêu chuẩn tác dụng lên một t...  Lực lượng   \n",
       "11871  Lực nào dẫn đến một đơn vị khối lượng thường d...  Lực lượng   \n",
       "11872            Lực nào là một phần của hệ SI hiện đại?  Lực lượng   \n",
       "\n",
       "                                                    text               answer  \\\n",
       "0      Beyoncé Giselle Knowles-Carter (/ biːˈjɒnseɪ /...    in the late 1990s   \n",
       "1      Beyoncé Giselle Knowles-Carter (/ biːˈjɒnseɪ /...  singing and dancing   \n",
       "2      Beyoncé Giselle Knowles-Carter (/ biːˈjɒnseɪ /...                 2003   \n",
       "3      Beyoncé Giselle Knowles-Carter (/ biːˈjɒnseɪ /...       Houston, Texas   \n",
       "4      Beyoncé Giselle Knowles-Carter (/ biːˈjɒnseɪ /...           late 1990s   \n",
       "...                                                  ...                  ...   \n",
       "11868  Lực pound có một đối trọng hệ mét, ít được sử ...               sthène   \n",
       "11869  Lực pound có một đối trọng hệ mét, ít được sử ...          pound-force   \n",
       "11870  Lực pound có một đối trọng hệ mét, ít được sử ...       kilogram-force   \n",
       "11871  Lực pound có một đối trọng hệ mét, ít được sử ...       kilogram-force   \n",
       "11872  Lực pound có một đối trọng hệ mét, ít được sử ...       kilogram-force   \n",
       "\n",
       "       label  \n",
       "0       True  \n",
       "1       True  \n",
       "2       True  \n",
       "3       True  \n",
       "4       True  \n",
       "...      ...  \n",
       "11868   True  \n",
       "11869  False  \n",
       "11870  False  \n",
       "11871  False  \n",
       "11872  False  \n",
       "\n",
       "[141979 rows x 6 columns]"
      ]
     },
     "execution_count": 5,
     "metadata": {},
     "output_type": "execute_result"
    }
   ],
   "source": [
    "squad_loader = data_loading.SquadLoader()\n",
    "squad_data = squad_loader.read_csv(\"data/squad/train-v2.0_part_1.csv\")\n",
    "squad_data = squad_loader.read_csv(\"data/squad/train-v2.0_part_2.csv\")\n",
    "squad_data = squad_loader.read_csv(\"data/squad/dev-v2.0.csv\")\n",
    "squad_data"
   ]
  },
  {
   "cell_type": "markdown",
   "metadata": {
    "id": "01aVeq6dmEw0"
   },
   "source": [
    "# Inspect data"
   ]
  },
  {
   "cell_type": "code",
   "execution_count": 6,
   "metadata": {
    "ExecuteTime": {
     "end_time": "2020-11-09T18:38:50.280122Z",
     "start_time": "2020-11-09T18:38:50.251119Z"
    },
    "colab": {
     "base_uri": "https://localhost:8080/"
    },
    "id": "FoU5R7RGoGiG",
    "outputId": "4dc5fa7d-2793-467f-fc3b-5993e95d5da5"
   },
   "outputs": [
    {
     "data": {
      "text/plain": [
       "id            0\n",
       "question      0\n",
       "title       995\n",
       "text          0\n",
       "label         0\n",
       "dtype: int64"
      ]
     },
     "execution_count": 6,
     "metadata": {},
     "output_type": "execute_result"
    }
   ],
   "source": [
    "zalo_data.isna().sum()"
   ]
  },
  {
   "cell_type": "code",
   "execution_count": 7,
   "metadata": {
    "ExecuteTime": {
     "end_time": "2020-11-09T18:38:50.764393Z",
     "start_time": "2020-11-09T18:38:50.284122Z"
    }
   },
   "outputs": [
    {
     "data": {
      "text/plain": [
       "<AxesSubplot:xlabel='dataset', ylabel='count'>"
      ]
     },
     "execution_count": 7,
     "metadata": {},
     "output_type": "execute_result"
    },
    {
     "data": {
      "image/png": "[encoded data removed]",
      "text/plain": [
       "<Figure size 432x288 with 1 Axes>"
      ]
     },
     "metadata": {
      "needs_background": "light"
     },
     "output_type": "display_data"
    }
   ],
   "source": [
    "label_count = pd.concat([\n",
    "    zalo_data.join(pd.Series(np.full(len(zalo_data), 'Zalo'), name='dataset'))[['dataset', 'label']],\n",
    "    squad_vn_data.join(pd.Series(np.full(len(squad_vn_data), 'SquadVN'), name='dataset'))[['dataset', 'label']],\n",
    "    squad_data.join(pd.Series(np.full(len(squad_data), 'Squad'), name='dataset'))[['dataset', 'label']]\n",
    "], axis = 0)\n",
    "sns.countplot(x='dataset', hue='label', data=label_count)"
   ]
  },
  {
   "cell_type": "code",
   "execution_count": 8,
   "metadata": {
    "ExecuteTime": {
     "end_time": "2020-11-09T18:38:51.143146Z",
     "start_time": "2020-11-09T18:38:50.769118Z"
    }
   },
   "outputs": [
    {
     "data": {
      "image/png": "[encoded data removed]",
      "text/plain": [
       "<Figure size 432x288 with 1 Axes>"
      ]
     },
     "metadata": {
      "needs_background": "light"
     },
     "output_type": "display_data"
    }
   ],
   "source": [
    "question_count = pd.Series({'Zalo': zalo_data['question'].nunique(),\n",
    "                            'SquadVN': squad_vn_data['question'].nunique(),\n",
    "                            'Squad': squad_data['question'].nunique()})\n",
    "_, ax = plt.subplots()\n",
    "for i, v in enumerate(question_count):\n",
    "    ax.text(v + 2000, i, str(v), color='blue', fontweight='bold')\n",
    "plt.title('Number of questions')\n",
    "question_count.plot(kind='barh', xlim=(0, 170000)).invert_yaxis()"
   ]
  },
  {
   "cell_type": "code",
   "execution_count": 9,
   "metadata": {
    "ExecuteTime": {
     "end_time": "2020-11-09T18:38:51.834117Z",
     "start_time": "2020-11-09T18:38:51.148120Z"
    }
   },
   "outputs": [
    {
     "data": {
      "image/png": "[encoded data removed]",
      "text/plain": [
       "<Figure size 432x288 with 1 Axes>"
      ]
     },
     "metadata": {
      "needs_background": "light"
     },
     "output_type": "display_data"
    }
   ],
   "source": [
    "paragraph_count = pd.Series({'Zalo': zalo_data['text'].nunique(),\n",
    "                            'SquadVN': squad_vn_data['text'].nunique(),\n",
    "                            'Squad': squad_data['text'].nunique()})\n",
    "_, ax = plt.subplots()\n",
    "for i, v in enumerate(paragraph_count):\n",
    "    ax.text(v + 1000, i, str(v), color='blue', fontweight='bold')\n",
    "plt.title('Number of paragraphs')\n",
    "paragraph_count.plot(kind='barh', xlim=(0, 25000)).invert_yaxis()"
   ]
  },
  {
   "cell_type": "code",
   "execution_count": 10,
   "metadata": {
    "ExecuteTime": {
     "end_time": "2020-11-09T18:38:52.037120Z",
     "start_time": "2020-11-09T18:38:51.837120Z"
    },
    "colab": {
     "base_uri": "https://localhost:8080/"
    },
    "id": "sbwQH2RGnS0T",
    "outputId": "3be9d5e7-a86f-4586-cfdc-61efc1891fc9"
   },
   "outputs": [
    {
     "data": {
      "image/png": "[encoded data removed]",
      "text/plain": [
       "<Figure size 432x288 with 1 Axes>"
      ]
     },
     "metadata": {
      "needs_background": "light"
     },
     "output_type": "display_data"
    }
   ],
   "source": [
    "title_count = pd.Series({'Zalo': zalo_data['title'].nunique(),\n",
    "                         'SquadVN': squad_vn_data['title'].nunique(),\n",
    "                         'Squad': squad_data['title'].nunique()})\n",
    "_, ax = plt.subplots()\n",
    "for i, v in enumerate(title_count):\n",
    "    ax.text(v + 200, i, str(v), color='blue', fontweight='bold')\n",
    "plt.title('Number of titles')\n",
    "title_count.plot(kind='barh', xlim=(0, 11000)).invert_yaxis()"
   ]
  },
  {
   "cell_type": "code",
   "execution_count": 11,
   "metadata": {
    "ExecuteTime": {
     "end_time": "2020-11-09T18:38:52.429118Z",
     "start_time": "2020-11-09T18:38:52.040118Z"
    },
    "colab": {
     "base_uri": "https://localhost:8080/",
     "height": 265
    },
    "id": "COHXnLNFne7K",
    "outputId": "2029c786-7bc2-4a5d-ffac-dfbcdbd9db97"
   },
   "outputs": [
    {
     "data": {
      "image/png": "[encoded data removed]",
      "text/plain": [
       "<Figure size 432x288 with 1 Axes>"
      ]
     },
     "metadata": {
      "needs_background": "light"
     },
     "output_type": "display_data"
    }
   ],
   "source": [
    "plt.title('Top 10 popular titles in Zalo dataset')\n",
    "plt.xlabel('Frequency')\n",
    "zalo_data['title'].value_counts()[1:11].plot(kind='barh').invert_yaxis()"
   ]
  },
  {
   "cell_type": "code",
   "execution_count": 12,
   "metadata": {
    "ExecuteTime": {
     "end_time": "2020-11-09T18:38:52.711121Z",
     "start_time": "2020-11-09T18:38:52.432119Z"
    }
   },
   "outputs": [
    {
     "data": {
      "image/png": "[encoded data removed]",
      "text/plain": [
       "<Figure size 432x288 with 1 Axes>"
      ]
     },
     "metadata": {
      "needs_background": "light"
     },
     "output_type": "display_data"
    }
   ],
   "source": [
    "plt.title('Top 10 popular titles in SquadVN dataset')\n",
    "plt.xlabel('Frequency')\n",
    "squad_vn_data['title'].value_counts()[1:11].plot(kind='barh').invert_yaxis()"
   ]
  },
  {
   "cell_type": "code",
   "execution_count": 13,
   "metadata": {
    "ExecuteTime": {
     "end_time": "2020-11-09T18:38:52.946121Z",
     "start_time": "2020-11-09T18:38:52.714119Z"
    }
   },
   "outputs": [
    {
     "data": {
      "image/png": "[encoded data removed]",
      "text/plain": [
       "<Figure size 432x288 with 1 Axes>"
      ]
     },
     "metadata": {
      "needs_background": "light"
     },
     "output_type": "display_data"
    }
   ],
   "source": [
    "plt.title('Top 10 popular titles in Squad dataset')\n",
    "plt.xlabel('Frequency')\n",
    "squad_data['title'].value_counts()[1:11].plot(kind='barh').invert_yaxis()"
   ]
  },
  {
   "cell_type": "code",
   "execution_count": 14,
   "metadata": {
    "ExecuteTime": {
     "end_time": "2020-11-09T18:38:53.165187Z",
     "start_time": "2020-11-09T18:38:52.948128Z"
    }
   },
   "outputs": [
    {
     "data": {
      "text/plain": [
       "<AxesSubplot:title={'center':'Length of question (Zalo)'}, xlabel='Length', ylabel='Frequency'>"
      ]
     },
     "execution_count": 14,
     "metadata": {},
     "output_type": "execute_result"
    },
    {
     "data": {
      "image/png": "[encoded data removed]",
      "text/plain": [
       "<Figure size 432x288 with 1 Axes>"
      ]
     },
     "metadata": {
      "needs_background": "light"
     },
     "output_type": "display_data"
    }
   ],
   "source": [
    "plt.title('Length of question (Zalo)')\n",
    "plt.xlabel('Length')\n",
    "zalo_data['question'].str.split(' ').str.len().plot.hist(xlim=(0, 25), bins=20)"
   ]
  },
  {
   "cell_type": "code",
   "execution_count": 15,
   "metadata": {
    "ExecuteTime": {
     "end_time": "2020-11-09T18:38:58.076127Z",
     "start_time": "2020-11-09T18:38:53.168120Z"
    }
   },
   "outputs": [
    {
     "data": {
      "text/plain": [
       "<AxesSubplot:title={'center':'Length of question in tokens (Zalo)'}, xlabel='Length', ylabel='Frequency'>"
      ]
     },
     "execution_count": 15,
     "metadata": {},
     "output_type": "execute_result"
    },
    {
     "data": {
      "image/png": "[encoded data removed]",
      "text/plain": [
       "<Figure size 432x288 with 1 Axes>"
      ]
     },
     "metadata": {
      "needs_background": "light"
     },
     "output_type": "display_data"
    }
   ],
   "source": [
    "import tokenizing\n",
    "plt.title('Length of question in tokens (Zalo)')\n",
    "plt.xlabel('Length')\n",
    "zalo_data['question'].apply(tokenizing.tokenize).str.len().plot.hist(xlim=(0, 25), bins=20)"
   ]
  },
  {
   "cell_type": "code",
   "execution_count": 16,
   "metadata": {
    "ExecuteTime": {
     "end_time": "2020-11-09T18:38:58.309121Z",
     "start_time": "2020-11-09T18:38:58.079125Z"
    }
   },
   "outputs": [
    {
     "data": {
      "text/plain": [
       "<AxesSubplot:title={'center':'Length of question (SquadVN)'}, xlabel='Length', ylabel='Frequency'>"
      ]
     },
     "execution_count": 16,
     "metadata": {},
     "output_type": "execute_result"
    },
    {
     "data": {
      "image/png": "[encoded data removed]",
      "text/plain": [
       "<Figure size 432x288 with 1 Axes>"
      ]
     },
     "metadata": {
      "needs_background": "light"
     },
     "output_type": "display_data"
    }
   ],
   "source": [
    "plt.title('Length of question (SquadVN)')\n",
    "plt.xlabel('Length')\n",
    "squad_vn_data['question'].str.split(' ').str.len().plot.hist(xlim=(0, 30), bins=20)"
   ]
  },
  {
   "cell_type": "code",
   "execution_count": 17,
   "metadata": {
    "ExecuteTime": {
     "end_time": "2020-11-09T18:38:59.076120Z",
     "start_time": "2020-11-09T18:38:58.313147Z"
    }
   },
   "outputs": [
    {
     "data": {
      "text/plain": [
       "<AxesSubplot:title={'center':'Length of question (Squad)'}, xlabel='Length', ylabel='Frequency'>"
      ]
     },
     "execution_count": 17,
     "metadata": {},
     "output_type": "execute_result"
    },
    {
     "data": {
      "image/png": "[encoded data removed]",
      "text/plain": [
       "<Figure size 432x288 with 1 Axes>"
      ]
     },
     "metadata": {
      "needs_background": "light"
     },
     "output_type": "display_data"
    }
   ],
   "source": [
    "plt.title('Length of question (Squad)')\n",
    "plt.xlabel('Length')\n",
    "squad_data['question'].str.split(' ').str.len().plot.hist(xlim=(0, 40), bins=20)"
   ]
  },
  {
   "cell_type": "code",
   "execution_count": 18,
   "metadata": {
    "ExecuteTime": {
     "end_time": "2020-11-09T18:38:59.890152Z",
     "start_time": "2020-11-09T18:38:59.080127Z"
    }
   },
   "outputs": [
    {
     "data": {
      "image/png": "[encoded data removed]",
      "text/plain": [
       "<Figure size 432x288 with 1 Axes>"
      ]
     },
     "metadata": {
      "needs_background": "light"
     },
     "output_type": "display_data"
    }
   ],
   "source": [
    "question_len = pd.Series({'Zalo': zalo_data['question'].str.split(' ').str.len().mean(),\n",
    "                          'SquadVN': squad_vn_data['question'].str.split(' ').str.len().mean(),\n",
    "                          'Squad': squad_data['question'].str.split(' ').str.len().mean()})\n",
    "plt.title('Length of question')\n",
    "question_len.plot(kind='barh').invert_yaxis()"
   ]
  },
  {
   "cell_type": "code",
   "execution_count": 19,
   "metadata": {
    "ExecuteTime": {
     "end_time": "2020-11-09T18:39:00.564173Z",
     "start_time": "2020-11-09T18:38:59.893124Z"
    }
   },
   "outputs": [
    {
     "data": {
      "text/plain": [
       "<AxesSubplot:title={'center':'Length of paragraph (Zalo)'}, xlabel='Length', ylabel='Frequency'>"
      ]
     },
     "execution_count": 19,
     "metadata": {},
     "output_type": "execute_result"
    },
    {
     "data": {
      "image/png": "[encoded data removed]",
      "text/plain": [
       "<Figure size 432x288 with 1 Axes>"
      ]
     },
     "metadata": {
      "needs_background": "light"
     },
     "output_type": "display_data"
    }
   ],
   "source": [
    "plt.title('Length of paragraph (Zalo)')\n",
    "plt.xlabel('Length')\n",
    "zalo_data['text'].str.split(' ').str.len().plot.hist(xlim=(0, 300), bins=100)"
   ]
  },
  {
   "cell_type": "code",
   "execution_count": 20,
   "metadata": {
    "ExecuteTime": {
     "end_time": "2020-11-09T18:39:28.172815Z",
     "start_time": "2020-11-09T18:39:00.567120Z"
    }
   },
   "outputs": [
    {
     "data": {
      "text/plain": [
       "<AxesSubplot:title={'center':'Length of paragraph in tokens'}, xlabel='Length', ylabel='Frequency'>"
      ]
     },
     "execution_count": 20,
     "metadata": {},
     "output_type": "execute_result"
    },
    {
     "data": {
      "image/png": "[encoded data removed]",
      "text/plain": [
       "<Figure size 432x288 with 1 Axes>"
      ]
     },
     "metadata": {
      "needs_background": "light"
     },
     "output_type": "display_data"
    }
   ],
   "source": [
    "plt.title('Length of paragraph in tokens')\n",
    "plt.xlabel('Length')\n",
    "zalo_data['text'].apply(tokenizing.tokenize).str.len().plot.hist(xlim=(0, 300), bins=100)"
   ]
  },
  {
   "cell_type": "code",
   "execution_count": 21,
   "metadata": {
    "ExecuteTime": {
     "end_time": "2020-11-09T18:39:28.764812Z",
     "start_time": "2020-11-09T18:39:28.175812Z"
    }
   },
   "outputs": [
    {
     "data": {
      "text/plain": [
       "<AxesSubplot:title={'center':'Length of paragraph (SquadVN)'}, xlabel='Length', ylabel='Frequency'>"
      ]
     },
     "execution_count": 21,
     "metadata": {},
     "output_type": "execute_result"
    },
    {
     "data": {
      "image/png": "[encoded data removed]",
      "text/plain": [
       "<Figure size 432x288 with 1 Axes>"
      ]
     },
     "metadata": {
      "needs_background": "light"
     },
     "output_type": "display_data"
    }
   ],
   "source": [
    "plt.title('Length of paragraph (SquadVN)')\n",
    "plt.xlabel('Length')\n",
    "squad_vn_data['text'].str.split(' ').str.len().plot.hist(xlim=(0, 700), bins=100)"
   ]
  },
  {
   "cell_type": "code",
   "execution_count": 22,
   "metadata": {
    "ExecuteTime": {
     "end_time": "2020-11-09T18:39:33.730865Z",
     "start_time": "2020-11-09T18:39:28.768824Z"
    }
   },
   "outputs": [
    {
     "data": {
      "text/plain": [
       "<AxesSubplot:title={'center':'Length of paragraph (Squad)'}, xlabel='Length', ylabel='Frequency'>"
      ]
     },
     "execution_count": 22,
     "metadata": {},
     "output_type": "execute_result"
    },
    {
     "data": {
      "image/png": "[encoded data removed]",
      "text/plain": [
       "<Figure size 432x288 with 1 Axes>"
      ]
     },
     "metadata": {
      "needs_background": "light"
     },
     "output_type": "display_data"
    }
   ],
   "source": [
    "plt.title('Length of paragraph (Squad)')\n",
    "plt.xlabel('Length')\n",
    "squad_data['text'].str.split(' ').str.len().plot.hist(xlim=(0, 500), bins=100)"
   ]
  },
  {
   "cell_type": "code",
   "execution_count": 23,
   "metadata": {
    "ExecuteTime": {
     "end_time": "2020-11-09T18:39:38.012816Z",
     "start_time": "2020-11-09T18:39:33.734815Z"
    }
   },
   "outputs": [
    {
     "data": {
      "image/png": "[encoded data removed]",
      "text/plain": [
       "<Figure size 432x288 with 1 Axes>"
      ]
     },
     "metadata": {
      "needs_background": "light"
     },
     "output_type": "display_data"
    }
   ],
   "source": [
    "paragraph_len = pd.Series({'Zalo': zalo_data['text'].str.split(' ').str.len().mean(),\n",
    "                          'SquadVN': squad_vn_data['text'].str.split(' ').str.len().mean(),\n",
    "                          'Squad': squad_data['text'].str.split(' ').str.len().mean()})\n",
    "plt.title('Length of paragraph')\n",
    "paragraph_len.plot(kind='barh').invert_yaxis()"
   ]
  },
  {
   "cell_type": "code",
   "execution_count": null,
   "metadata": {},
   "outputs": [],
   "source": []
  }
 ],
 "metadata": {
  "colab": {
   "collapsed_sections": [],
   "name": "data_analysis.ipynb",
   "provenance": [],
   "toc_visible": true
  },
  "kernelspec": {
   "display_name": "Python 3",
   "language": "python",
   "name": "python3"
  },
  "language_info": {
   "codemirror_mode": {
    "name": "ipython",
    "version": 3
   },
   "file_extension": ".py",
   "mimetype": "text/x-python",
   "name": "python",
   "nbconvert_exporter": "python",
   "pygments_lexer": "ipython3",
   "version": "3.9.0"
  },
  "toc": {
   "base_numbering": 1,
   "nav_menu": {},
   "number_sections": true,
   "sideBar": true,
   "skip_h1_title": false,
   "title_cell": "Table of Contents",
   "title_sidebar": "Contents",
   "toc_cell": true,
   "toc_position": {},
   "toc_section_display": true,
   "toc_window_display": true
  }
 },
 "nbformat": 4,
 "nbformat_minor": 1
}
