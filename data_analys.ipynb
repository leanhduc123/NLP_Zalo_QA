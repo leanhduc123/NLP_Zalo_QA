{
  "nbformat": 4,
  "nbformat_minor": 0,
  "metadata": {
    "colab": {
      "name": "data_analys.ipynb",
      "provenance": []
    },
    "kernelspec": {
      "display_name": "Python 3",
      "language": "python",
      "name": "python3"
    },
    "language_info": {
      "codemirror_mode": {
        "name": "ipython",
        "version": 3
      },
      "file_extension": ".py",
      "mimetype": "text/x-python",
      "name": "python",
      "nbconvert_exporter": "python",
      "pygments_lexer": "ipython3",
      "version": "3.9.0"
    }
  },
  "cells": [
    {
      "cell_type": "code",
      "metadata": {
        "id": "iwvh-d9RjHZQ"
      },
      "source": [
        "import numpy as np\n",
        "import pandas as pd\n",
        "import seaborn as sns\n",
        "import matplotlib.pyplot as plt\n",
        "from utils import data_loading"
      ],
      "execution_count": 4,
      "outputs": []
    },
    {
      "cell_type": "code",
      "metadata": {
        "colab": {
          "base_uri": "https://localhost:8080/"
        },
        "id": "GkH6cxqmVOyV",
        "outputId": "24120ae1-a114-47d0-f90c-8c741163bc74"
      },
      "source": [
        "# !git clone https://github.com/leanhduc123/NLP_Zalo_QA.git zaloqa \n",
        "# %cd zaloqa"
      ],
      "execution_count": 1,
      "outputs": [
        {
          "output_type": "stream",
          "text": [
            "Cloning into 'zaloqa'...\n",
            "remote: Enumerating objects: 34, done.\u001b[K\n",
            "remote: Counting objects: 100% (34/34), done.\u001b[K\n",
            "remote: Compressing objects: 100% (21/21), done.\u001b[K\n",
            "remote: Total 34 (delta 11), reused 34 (delta 11), pack-reused 0\u001b[K\n",
            "Unpacking objects: 100% (34/34), done.\n",
            "Checking out files: 100% (27/27), done.\n"
          ],
          "name": "stdout"
        }
      ]
    },
    {
      "cell_type": "code",
      "metadata": {
        "colab": {
          "base_uri": "https://localhost:8080/",
          "height": 424
        },
        "id": "xMZzXYErVD3i",
        "outputId": "b7c19e55-94af-4fe6-ac7f-6dcf4a8dc43c"
      },
      "source": [
        "zalo_loader = data_loading.ZaloLoader()\n",
        "zalo_data = zalo_loader.read_csv(\"data/train.csv\")\n",
        "zalo_data = pd.read_csv(\"data/squad_vi_train_v2.0_ImpossibleAnswer.csv\")\n",
        "zalo_data"
      ],
      "execution_count": 19,
      "outputs": [
        {
          "output_type": "execute_result",
          "data": {
            "text/html": [
              "<div>\n",
              "<style scoped>\n",
              "    .dataframe tbody tr th:only-of-type {\n",
              "        vertical-align: middle;\n",
              "    }\n",
              "\n",
              "    .dataframe tbody tr th {\n",
              "        vertical-align: top;\n",
              "    }\n",
              "\n",
              "    .dataframe thead th {\n",
              "        text-align: right;\n",
              "    }\n",
              "</style>\n",
              "<table border=\"1\" class=\"dataframe\">\n",
              "  <thead>\n",
              "    <tr style=\"text-align: right;\">\n",
              "      <th></th>\n",
              "      <th>id</th>\n",
              "      <th>question</th>\n",
              "      <th>title</th>\n",
              "      <th>text</th>\n",
              "      <th>answer</th>\n",
              "      <th>label</th>\n",
              "    </tr>\n",
              "  </thead>\n",
              "  <tbody>\n",
              "    <tr>\n",
              "      <th>0</th>\n",
              "      <td>5a8cc8f2fd22b3001a8d8e66</td>\n",
              "      <td>Liên minh dựa trên điều gì?</td>\n",
              "      <td>United_States_dollar</td>\n",
              "      <td>Không giống như đồng đô la của Tây Ban Nha, đô...</td>\n",
              "      <td>a decimal system of values</td>\n",
              "      <td>True</td>\n",
              "    </tr>\n",
              "    <tr>\n",
              "      <th>1</th>\n",
              "      <td>5a8cc8f2fd22b3001a8d8e67</td>\n",
              "      <td>Kho bạc nắm giữ bao nhiêu giá trị tiền tệ?</td>\n",
              "      <td>United_States_dollar</td>\n",
              "      <td>Không giống như đồng đô la của Tây Ban Nha, đô...</td>\n",
              "      <td>one-tenth of a dollar</td>\n",
              "      <td>True</td>\n",
              "    </tr>\n",
              "    <tr>\n",
              "      <th>2</th>\n",
              "      <td>5a8cc8f2fd22b3001a8d8e68</td>\n",
              "      <td>Bao nhiêu là một liên minh sẽ có giá trị như đ...</td>\n",
              "      <td>United_States_dollar</td>\n",
              "      <td>Không giống như đồng đô la của Tây Ban Nha, đô...</td>\n",
              "      <td>one hundred dollars</td>\n",
              "      <td>True</td>\n",
              "    </tr>\n",
              "    <tr>\n",
              "      <th>3</th>\n",
              "      <td>5a8cc8f2fd22b3001a8d8e69</td>\n",
              "      <td>Tiền giấy có giá trị tối đa được sử dụng để có...</td>\n",
              "      <td>United_States_dollar</td>\n",
              "      <td>Không giống như đồng đô la của Tây Ban Nha, đô...</td>\n",
              "      <td>$20</td>\n",
              "      <td>True</td>\n",
              "    </tr>\n",
              "    <tr>\n",
              "      <th>4</th>\n",
              "      <td>5a8cc8f2fd22b3001a8d8e6a</td>\n",
              "      <td>Trong luật pháp nào thuật ngữ \"giáo phái\" được...</td>\n",
              "      <td>United_States_dollar</td>\n",
              "      <td>Không giống như đồng đô la của Tây Ban Nha, đô...</td>\n",
              "      <td>Coinage Act of 1792</td>\n",
              "      <td>True</td>\n",
              "    </tr>\n",
              "    <tr>\n",
              "      <th>...</th>\n",
              "      <td>...</td>\n",
              "      <td>...</td>\n",
              "      <td>...</td>\n",
              "      <td>...</td>\n",
              "      <td>...</td>\n",
              "      <td>...</td>\n",
              "    </tr>\n",
              "    <tr>\n",
              "      <th>43493</th>\n",
              "      <td>5ad3aa82604f3c001a3feb45</td>\n",
              "      <td>Ngày càng có nhiều tranh cãi xung quanh việc t...</td>\n",
              "      <td>Pharmaceutical_industry</td>\n",
              "      <td>Ngày càng có nhiều tranh cãi xung quanh việc t...</td>\n",
              "      <td>'gifts' and biased information</td>\n",
              "      <td>True</td>\n",
              "    </tr>\n",
              "    <tr>\n",
              "      <th>43494</th>\n",
              "      <td>5ad3aa82604f3c001a3feb46</td>\n",
              "      <td>Hội nghị đã thuê ai làm tư vấn trả tiền?</td>\n",
              "      <td>Pharmaceutical_industry</td>\n",
              "      <td>Ngày càng có nhiều tranh cãi xung quanh việc t...</td>\n",
              "      <td>physicians</td>\n",
              "      <td>True</td>\n",
              "    </tr>\n",
              "    <tr>\n",
              "      <th>43495</th>\n",
              "      <td>5ad3aa82604f3c001a3feb47</td>\n",
              "      <td>Những ấn phẩm có thể được ban cố vấn thường đư...</td>\n",
              "      <td>Pharmaceutical_industry</td>\n",
              "      <td>Ngày càng có nhiều tranh cãi xung quanh việc t...</td>\n",
              "      <td>journals and conferences</td>\n",
              "      <td>True</td>\n",
              "    </tr>\n",
              "    <tr>\n",
              "      <th>43496</th>\n",
              "      <td>5ad3aa82604f3c001a3feb48</td>\n",
              "      <td>Ai đã bị buộc tội ảnh hưởng đến tư vấn?</td>\n",
              "      <td>Pharmaceutical_industry</td>\n",
              "      <td>Ngày càng có nhiều tranh cãi xung quanh việc t...</td>\n",
              "      <td>drug reps</td>\n",
              "      <td>True</td>\n",
              "    </tr>\n",
              "    <tr>\n",
              "      <th>43497</th>\n",
              "      <td>5ad3aa82604f3c001a3feb49</td>\n",
              "      <td>Điều gì đã ngừng tranh cãi?</td>\n",
              "      <td>Pharmaceutical_industry</td>\n",
              "      <td>Ngày càng có nhiều tranh cãi xung quanh việc t...</td>\n",
              "      <td>pharmaceutical marketing and influence</td>\n",
              "      <td>True</td>\n",
              "    </tr>\n",
              "  </tbody>\n",
              "</table>\n",
              "<p>43498 rows × 6 columns</p>\n",
              "</div>"
            ],
            "text/plain": [
              "                             id  ... label\n",
              "0      5a8cc8f2fd22b3001a8d8e66  ...  True\n",
              "1      5a8cc8f2fd22b3001a8d8e67  ...  True\n",
              "2      5a8cc8f2fd22b3001a8d8e68  ...  True\n",
              "3      5a8cc8f2fd22b3001a8d8e69  ...  True\n",
              "4      5a8cc8f2fd22b3001a8d8e6a  ...  True\n",
              "...                         ...  ...   ...\n",
              "43493  5ad3aa82604f3c001a3feb45  ...  True\n",
              "43494  5ad3aa82604f3c001a3feb46  ...  True\n",
              "43495  5ad3aa82604f3c001a3feb47  ...  True\n",
              "43496  5ad3aa82604f3c001a3feb48  ...  True\n",
              "43497  5ad3aa82604f3c001a3feb49  ...  True\n",
              "\n",
              "[43498 rows x 6 columns]"
            ]
          },
          "metadata": {
            "tags": []
          },
          "execution_count": 19
        }
      ]
    },
    {
      "cell_type": "code",
      "metadata": {
        "id": "Knu52P89YYd-",
        "outputId": "7ffc624c-3522-45fa-b0a7-6b634d371cf2",
        "colab": {
          "base_uri": "https://localhost:8080/",
          "height": 424
        }
      },
      "source": [
        "squad_vn_data = pd.read_csv(\"data/squad_vi_dev_v2.0_ImpossibleAnswer.csv\")\n",
        "squad_vn_data "
      ],
      "execution_count": 21,
      "outputs": [
        {
          "output_type": "execute_result",
          "data": {
            "text/html": [
              "<div>\n",
              "<style scoped>\n",
              "    .dataframe tbody tr th:only-of-type {\n",
              "        vertical-align: middle;\n",
              "    }\n",
              "\n",
              "    .dataframe tbody tr th {\n",
              "        vertical-align: top;\n",
              "    }\n",
              "\n",
              "    .dataframe thead th {\n",
              "        text-align: right;\n",
              "    }\n",
              "</style>\n",
              "<table border=\"1\" class=\"dataframe\">\n",
              "  <thead>\n",
              "    <tr style=\"text-align: right;\">\n",
              "      <th></th>\n",
              "      <th>id</th>\n",
              "      <th>question</th>\n",
              "      <th>title</th>\n",
              "      <th>text</th>\n",
              "      <th>answer</th>\n",
              "      <th>label</th>\n",
              "    </tr>\n",
              "  </thead>\n",
              "  <tbody>\n",
              "    <tr>\n",
              "      <th>0</th>\n",
              "      <td>5a6cb5c14eec6b001a80a624</td>\n",
              "      <td>Dược phẩm không bán được gì?</td>\n",
              "      <td>Pharmacy</td>\n",
              "      <td>Từ dược phẩm có nguồn gốc từ dược phẩm gốc của...</td>\n",
              "      <td>tobacco and patent medicines</td>\n",
              "      <td>True</td>\n",
              "    </tr>\n",
              "    <tr>\n",
              "      <th>1</th>\n",
              "      <td>5a6cb5c14eec6b001a80a625</td>\n",
              "      <td>Những từ gốc tiếng Anh có nghĩa là gì?</td>\n",
              "      <td>Pharmacy</td>\n",
              "      <td>Từ dược phẩm có nguồn gốc từ dược phẩm gốc của...</td>\n",
              "      <td>sorcery or even poison</td>\n",
              "      <td>True</td>\n",
              "    </tr>\n",
              "    <tr>\n",
              "      <th>2</th>\n",
              "      <td>5a6cb5c14eec6b001a80a626</td>\n",
              "      <td>Những gì khác đã được các dược phẩm tránh?</td>\n",
              "      <td>Pharmacy</td>\n",
              "      <td>Từ dược phẩm có nguồn gốc từ dược phẩm gốc của...</td>\n",
              "      <td>many other herbs not listed</td>\n",
              "      <td>True</td>\n",
              "    </tr>\n",
              "    <tr>\n",
              "      <th>3</th>\n",
              "      <td>5a6cb5c14eec6b001a80a628</td>\n",
              "      <td>Thuật ngữ dược phẩm được sử dụng lần cuối tron...</td>\n",
              "      <td>Pharmacy</td>\n",
              "      <td>Từ dược phẩm có nguồn gốc từ dược phẩm gốc của...</td>\n",
              "      <td>15th</td>\n",
              "      <td>True</td>\n",
              "    </tr>\n",
              "    <tr>\n",
              "      <th>4</th>\n",
              "      <td>5a6cb66c4eec6b001a80a62e</td>\n",
              "      <td>Những loại chuyên gia làm dược sĩ thiếu?</td>\n",
              "      <td>Pharmacy</td>\n",
              "      <td>Dược sĩ là các chuyên gia chăm sóc sức khỏe vớ...</td>\n",
              "      <td>healthcare professionals</td>\n",
              "      <td>True</td>\n",
              "    </tr>\n",
              "    <tr>\n",
              "      <th>...</th>\n",
              "      <td>...</td>\n",
              "      <td>...</td>\n",
              "      <td>...</td>\n",
              "      <td>...</td>\n",
              "      <td>...</td>\n",
              "      <td>...</td>\n",
              "    </tr>\n",
              "    <tr>\n",
              "      <th>5940</th>\n",
              "      <td>5ad28a57d7d075001a4299b3</td>\n",
              "      <td>Lực lượng bảo thủ thường gắn liền với việc chu...</td>\n",
              "      <td>Force</td>\n",
              "      <td>Lực lượng bảo thủ bao gồm những gì?</td>\n",
              "      <td>nonconservative forces</td>\n",
              "      <td>True</td>\n",
              "    </tr>\n",
              "    <tr>\n",
              "      <th>5941</th>\n",
              "      <td>5ad28ad0d7d075001a4299cc</td>\n",
              "      <td>Điều gì không có một đối tác số liệu?</td>\n",
              "      <td>Force</td>\n",
              "      <td>Lực lượng bảo thủ thường gắn liền với việc chu...</td>\n",
              "      <td>pound-force</td>\n",
              "      <td>True</td>\n",
              "    </tr>\n",
              "    <tr>\n",
              "      <th>5942</th>\n",
              "      <td>5ad28ad0d7d075001a4299cd</td>\n",
              "      <td>Điều gì không có một đối tác số liệu?</td>\n",
              "      <td>Force</td>\n",
              "      <td>Lực lượng bảo thủ thường gắn liền với việc chu...</td>\n",
              "      <td>kilogram-force</td>\n",
              "      <td>True</td>\n",
              "    </tr>\n",
              "    <tr>\n",
              "      <th>5943</th>\n",
              "      <td>5ad28ad0d7d075001a4299ce</td>\n",
              "      <td>Lực nào dẫn đến một đơn vị khối lượng thường đ...</td>\n",
              "      <td>Force</td>\n",
              "      <td>Lực lượng bảo thủ thường gắn liền với việc chu...</td>\n",
              "      <td>kilogram-force</td>\n",
              "      <td>True</td>\n",
              "    </tr>\n",
              "    <tr>\n",
              "      <th>5944</th>\n",
              "      <td>5ad28ad0d7d075001a4299cf</td>\n",
              "      <td>Lực nào dẫn đến một đơn vị khối lượng thường đ...</td>\n",
              "      <td>Force</td>\n",
              "      <td>Lực lượng bảo thủ thường gắn liền với việc chu...</td>\n",
              "      <td>kilogram-force</td>\n",
              "      <td>True</td>\n",
              "    </tr>\n",
              "  </tbody>\n",
              "</table>\n",
              "<p>5945 rows × 6 columns</p>\n",
              "</div>"
            ],
            "text/plain": [
              "                            id  ... label\n",
              "0     5a6cb5c14eec6b001a80a624  ...  True\n",
              "1     5a6cb5c14eec6b001a80a625  ...  True\n",
              "2     5a6cb5c14eec6b001a80a626  ...  True\n",
              "3     5a6cb5c14eec6b001a80a628  ...  True\n",
              "4     5a6cb66c4eec6b001a80a62e  ...  True\n",
              "...                        ...  ...   ...\n",
              "5940  5ad28a57d7d075001a4299b3  ...  True\n",
              "5941  5ad28ad0d7d075001a4299cc  ...  True\n",
              "5942  5ad28ad0d7d075001a4299cd  ...  True\n",
              "5943  5ad28ad0d7d075001a4299ce  ...  True\n",
              "5944  5ad28ad0d7d075001a4299cf  ...  True\n",
              "\n",
              "[5945 rows x 6 columns]"
            ]
          },
          "metadata": {
            "tags": []
          },
          "execution_count": 21
        }
      ]
    },
    {
      "cell_type": "code",
      "metadata": {
        "id": "lcoSf6tFWXUE",
        "outputId": "1731296d-9b54-45e7-f55b-bb29d83200da",
        "colab": {
          "base_uri": "https://localhost:8080/",
          "height": 424
        }
      },
      "source": [
        "squad_data = pd.read_csv(\"data/squad-v2.0-mailong25.csv\")\n",
        "squad_data"
      ],
      "execution_count": 7,
      "outputs": [
        {
          "output_type": "execute_result",
          "data": {
            "text/html": [
              "<div>\n",
              "<style scoped>\n",
              "    .dataframe tbody tr th:only-of-type {\n",
              "        vertical-align: middle;\n",
              "    }\n",
              "\n",
              "    .dataframe tbody tr th {\n",
              "        vertical-align: top;\n",
              "    }\n",
              "\n",
              "    .dataframe thead th {\n",
              "        text-align: right;\n",
              "    }\n",
              "</style>\n",
              "<table border=\"1\" class=\"dataframe\">\n",
              "  <thead>\n",
              "    <tr style=\"text-align: right;\">\n",
              "      <th></th>\n",
              "      <th>id</th>\n",
              "      <th>question</th>\n",
              "      <th>title</th>\n",
              "      <th>text</th>\n",
              "      <th>answer</th>\n",
              "      <th>label</th>\n",
              "    </tr>\n",
              "  </thead>\n",
              "  <tbody>\n",
              "    <tr>\n",
              "      <th>0</th>\n",
              "      <td>37bce7cfc34d4bf9b81e340c5345384c</td>\n",
              "      <td>Ai là thủ tướng Ấn Độ hiện tại</td>\n",
              "      <td>Ai là thủ tướng Ấn Độ hiện tại</td>\n",
              "      <td>Thủ tướng Ấn Độ sắp sang Mỹ gặp ông Trump mua ...</td>\n",
              "      <td>NaN</td>\n",
              "      <td>True</td>\n",
              "    </tr>\n",
              "    <tr>\n",
              "      <th>1</th>\n",
              "      <td>8af074fb95c941b485c120e2ddbcc7c8</td>\n",
              "      <td>Ai là thủ tướng Ấn Độ hiện tại</td>\n",
              "      <td>Ai là thủ tướng Ấn Độ hiện tại</td>\n",
              "      <td>Narendra Damodardas Modi ( tiếng Gujarat : નરે...</td>\n",
              "      <td>Narendra Damodardas Modi</td>\n",
              "      <td>False</td>\n",
              "    </tr>\n",
              "    <tr>\n",
              "      <th>2</th>\n",
              "      <td>4d8ce4afc5ed4364ad70fc4384eff08b</td>\n",
              "      <td>Ai là thủ tướng Ấn Độ hiện tại</td>\n",
              "      <td>Ai là thủ tướng Ấn Độ hiện tại</td>\n",
              "      <td>- Google hôm 3/6 đã xin lỗi Thủ tướng Ấn Độ Na...</td>\n",
              "      <td>Narendra Modi</td>\n",
              "      <td>False</td>\n",
              "    </tr>\n",
              "    <tr>\n",
              "      <th>3</th>\n",
              "      <td>ded17c6beaa746eebe531b3dd2b0f573</td>\n",
              "      <td>Ai là thủ tướng Ấn Độ hiện tại</td>\n",
              "      <td>Ai là thủ tướng Ấn Độ hiện tại</td>\n",
              "      <td>thủ tướng thăm Ấn Độ Nguyễn Xuân Phúc ASEAN th...</td>\n",
              "      <td>NaN</td>\n",
              "      <td>True</td>\n",
              "    </tr>\n",
              "    <tr>\n",
              "      <th>4</th>\n",
              "      <td>4e03f08a78b744a48f0f380441a227f4</td>\n",
              "      <td>Ai là thủ tướng Ấn Độ hiện tại</td>\n",
              "      <td>Ai là thủ tướng Ấn Độ hiện tại</td>\n",
              "      <td>Tin tức về chủ đề \" Thủ tướng Ấn Độ Narendra M...</td>\n",
              "      <td>Narendra Modi</td>\n",
              "      <td>False</td>\n",
              "    </tr>\n",
              "    <tr>\n",
              "      <th>...</th>\n",
              "      <td>...</td>\n",
              "      <td>...</td>\n",
              "      <td>...</td>\n",
              "      <td>...</td>\n",
              "      <td>...</td>\n",
              "      <td>...</td>\n",
              "    </tr>\n",
              "    <tr>\n",
              "      <th>3449</th>\n",
              "      <td>7ae8621ced0b46d682bb4fbc03b0afe4</td>\n",
              "      <td>Người được mệnh danh bà chúa thơ nôm là ai</td>\n",
              "      <td>Người được mệnh danh bà chúa thơ nôm là ai</td>\n",
              "      <td>Bốn chữ BÀ CHÚA THƠ NÔM ở đầu trang chẵn và nố...</td>\n",
              "      <td>NaN</td>\n",
              "      <td>True</td>\n",
              "    </tr>\n",
              "    <tr>\n",
              "      <th>3450</th>\n",
              "      <td>b706ddc4a1c8438d99cb67f62ae2b7dd</td>\n",
              "      <td>Người được mệnh danh bà chúa thơ nôm là ai</td>\n",
              "      <td>Người được mệnh danh bà chúa thơ nôm là ai</td>\n",
              "      <td>Ai là người được mệnh danh là \" Bà Chúa thơ Nô...</td>\n",
              "      <td>NaN</td>\n",
              "      <td>True</td>\n",
              "    </tr>\n",
              "    <tr>\n",
              "      <th>3451</th>\n",
              "      <td>fcf5d052ac2247f2b808016974473e82</td>\n",
              "      <td>Người được mệnh danh bà chúa thơ nôm là ai</td>\n",
              "      <td>Người được mệnh danh bà chúa thơ nôm là ai</td>\n",
              "      <td>Câu 1 : Ai được mệnh danh là bà chúa thơ Nôm ?</td>\n",
              "      <td>NaN</td>\n",
              "      <td>True</td>\n",
              "    </tr>\n",
              "    <tr>\n",
              "      <th>3452</th>\n",
              "      <td>e89344e6db464adf93287c694263f017</td>\n",
              "      <td>Người được mệnh danh bà chúa thơ nôm là ai</td>\n",
              "      <td>Người được mệnh danh bà chúa thơ nôm là ai</td>\n",
              "      <td>Hồ Xuân Hương - Ai mệnh danh là \" Bà chúa thơ ...</td>\n",
              "      <td>NaN</td>\n",
              "      <td>True</td>\n",
              "    </tr>\n",
              "    <tr>\n",
              "      <th>3453</th>\n",
              "      <td>772dd4af2a3449db8aa7c99d6226c910</td>\n",
              "      <td>Người được mệnh danh bà chúa thơ nôm là ai</td>\n",
              "      <td>Người được mệnh danh bà chúa thơ nôm là ai</td>\n",
              "      <td>HỒ XUÂN HƯƠNG – AI MỆNH DANH LÀ “ BÀ CHÚA THƠ ...</td>\n",
              "      <td>NaN</td>\n",
              "      <td>True</td>\n",
              "    </tr>\n",
              "  </tbody>\n",
              "</table>\n",
              "<p>3454 rows × 6 columns</p>\n",
              "</div>"
            ],
            "text/plain": [
              "                                    id  ...  label\n",
              "0     37bce7cfc34d4bf9b81e340c5345384c  ...   True\n",
              "1     8af074fb95c941b485c120e2ddbcc7c8  ...  False\n",
              "2     4d8ce4afc5ed4364ad70fc4384eff08b  ...  False\n",
              "3     ded17c6beaa746eebe531b3dd2b0f573  ...   True\n",
              "4     4e03f08a78b744a48f0f380441a227f4  ...  False\n",
              "...                                ...  ...    ...\n",
              "3449  7ae8621ced0b46d682bb4fbc03b0afe4  ...   True\n",
              "3450  b706ddc4a1c8438d99cb67f62ae2b7dd  ...   True\n",
              "3451  fcf5d052ac2247f2b808016974473e82  ...   True\n",
              "3452  e89344e6db464adf93287c694263f017  ...   True\n",
              "3453  772dd4af2a3449db8aa7c99d6226c910  ...   True\n",
              "\n",
              "[3454 rows x 6 columns]"
            ]
          },
          "metadata": {
            "tags": []
          },
          "execution_count": 7
        }
      ]
    },
    {
      "cell_type": "code",
      "metadata": {
        "id": "H-S7bKR9W1Rt",
        "outputId": "75cde4d9-3b19-4503-eaab-99ac419b4e0b",
        "colab": {
          "base_uri": "https://localhost:8080/"
        }
      },
      "source": [
        "zalo_data.isna().sum()"
      ],
      "execution_count": 22,
      "outputs": [
        {
          "output_type": "execute_result",
          "data": {
            "text/plain": [
              "id          0\n",
              "question    2\n",
              "title       0\n",
              "text        8\n",
              "answer      0\n",
              "label       0\n",
              "dtype: int64"
            ]
          },
          "metadata": {
            "tags": []
          },
          "execution_count": 22
        }
      ]
    },
    {
      "cell_type": "code",
      "metadata": {
        "id": "sJt2nfrOXFts",
        "outputId": "18584d56-c22e-4c8d-b18a-f992ef8819d9",
        "colab": {
          "base_uri": "https://localhost:8080/",
          "height": 297
        }
      },
      "source": [
        "label_count = pd.concat([\n",
        "    zalo_data.join(pd.Series(np.full(len(zalo_data), 'Zalo'), name='dataset'))[['dataset', 'label']],\n",
        "    squad_vn_data.join(pd.Series(np.full(len(squad_vn_data), 'SquadVN'), name='dataset'))[['dataset', 'label']],\n",
        "    squad_data.join(pd.Series(np.full(len(squad_data), 'Squad'), name='dataset'))[['dataset', 'label']]\n",
        "], axis = 0)\n",
        "sns.countplot(x='dataset', hue='label', data=label_count)"
      ],
      "execution_count": 23,
      "outputs": [
        {
          "output_type": "execute_result",
          "data": {
            "text/plain": [
              "<matplotlib.axes._subplots.AxesSubplot at 0x7f2312bb4be0>"
            ]
          },
          "metadata": {
            "tags": []
          },
          "execution_count": 23
        },
        {
          "output_type": "display_data",
          "data": {
            "image/png": "[encoded data removed]",
            "text/plain": [
              "<Figure size 432x288 with 1 Axes>"
            ]
          },
          "metadata": {
            "tags": [],
            "needs_background": "light"
          }
        }
      ]
    },
    {
      "cell_type": "code",
      "metadata": {
        "id": "MTYX8U0WYr9q",
        "outputId": "0ec066bc-d0c4-45e4-c2a4-d583018c2f74",
        "colab": {
          "base_uri": "https://localhost:8080/",
          "height": 281
        }
      },
      "source": [
        "question_count = pd.Series({'Zalo': zalo_data['question'].nunique(),\n",
        "                            'SquadVN': squad_vn_data['question'].nunique(),\n",
        "                            'Squad': squad_data['question'].nunique()})\n",
        "_, ax = plt.subplots()\n",
        "for i, v in enumerate(question_count):\n",
        "    ax.text(v + 2000, i, str(v), color='blue', fontweight='bold')\n",
        "plt.title('Number of questions')\n",
        "question_count.plot(kind='barh', xlim=(0, 170000)).invert_yaxis()"
      ],
      "execution_count": 24,
      "outputs": [
        {
          "output_type": "display_data",
          "data": {
            "image/png": "[encoded data removed]",
            "text/plain": [
              "<Figure size 432x288 with 1 Axes>"
            ]
          },
          "metadata": {
            "tags": [],
            "needs_background": "light"
          }
        }
      ]
    },
    {
      "cell_type": "code",
      "metadata": {
        "id": "CqOoGB2zYy62",
        "outputId": "cc906d52-298e-4a52-cd15-9e797d99af15",
        "colab": {
          "base_uri": "https://localhost:8080/",
          "height": 281
        }
      },
      "source": [
        "paragraph_count = pd.Series({'Zalo': zalo_data['text'].nunique(),\n",
        "                            'SquadVN': squad_vn_data['text'].nunique(),\n",
        "                            'Squad': squad_data['text'].nunique()})\n",
        "_, ax = plt.subplots()\n",
        "for i, v in enumerate(paragraph_count):\n",
        "    ax.text(v + 1000, i, str(v), color='blue', fontweight='bold')\n",
        "plt.title('Number of paragraphs')\n",
        "paragraph_count.plot(kind='barh', xlim=(0, 25000)).invert_yaxis()"
      ],
      "execution_count": 25,
      "outputs": [
        {
          "output_type": "display_data",
          "data": {
            "image/png": "[encoded data removed]",
            "text/plain": [
              "<Figure size 432x288 with 1 Axes>"
            ]
          },
          "metadata": {
            "tags": [],
            "needs_background": "light"
          }
        }
      ]
    },
    {
      "cell_type": "code",
      "metadata": {
        "id": "j4XpA11lY2q0",
        "outputId": "8d62934c-7e6b-4e1a-9118-1945669ad857",
        "colab": {
          "base_uri": "https://localhost:8080/",
          "height": 281
        }
      },
      "source": [
        "title_count = pd.Series({'Zalo': zalo_data['title'].nunique(),\n",
        "                         'SquadVN': squad_vn_data['title'].nunique(),\n",
        "                         'Squad': squad_data['title'].nunique()})\n",
        "_, ax = plt.subplots()\n",
        "for i, v in enumerate(title_count):\n",
        "    ax.text(v + 200, i, str(v), color='blue', fontweight='bold')\n",
        "plt.title('Number of titles')\n",
        "title_count.plot(kind='barh', xlim=(0, 11000)).invert_yaxis()"
      ],
      "execution_count": 26,
      "outputs": [
        {
          "output_type": "display_data",
          "data": {
            "image/png": "[encoded data removed]",
            "text/plain": [
              "<Figure size 432x288 with 1 Axes>"
            ]
          },
          "metadata": {
            "tags": [],
            "needs_background": "light"
          }
        }
      ]
    },
    {
      "cell_type": "code",
      "metadata": {
        "id": "OeCdqij4Y6jQ",
        "outputId": "3c5880da-d3c8-44b3-adba-0325cd5e30cf",
        "colab": {
          "base_uri": "https://localhost:8080/",
          "height": 295
        }
      },
      "source": [
        "plt.title('Top 10 popular titles in Zalo dataset')\n",
        "plt.xlabel('Frequency')\n",
        "zalo_data['title'].value_counts()[1:11].plot(kind='barh').invert_yaxis()"
      ],
      "execution_count": 27,
      "outputs": [
        {
          "output_type": "display_data",
          "data": {
            "image/png": "[encoded data removed]",
            "text/plain": [
              "<Figure size 432x288 with 1 Axes>"
            ]
          },
          "metadata": {
            "tags": [],
            "needs_background": "light"
          }
        }
      ]
    },
    {
      "cell_type": "code",
      "metadata": {
        "id": "l-SnVH_1Y_bL",
        "outputId": "e0b8592f-04f2-4259-e6f4-7e1ee5d8f202",
        "colab": {
          "base_uri": "https://localhost:8080/",
          "height": 295
        }
      },
      "source": [
        "plt.title('Top 10 popular titles in SquadVN dataset')\n",
        "plt.xlabel('Frequency')\n",
        "squad_vn_data['title'].value_counts()[1:11].plot(kind='barh').invert_yaxis()"
      ],
      "execution_count": 28,
      "outputs": [
        {
          "output_type": "display_data",
          "data": {
            "image/png": "[encoded data removed]",
            "text/plain": [
              "<Figure size 432x288 with 1 Axes>"
            ]
          },
          "metadata": {
            "tags": [],
            "needs_background": "light"
          }
        }
      ]
    },
    {
      "cell_type": "code",
      "metadata": {
        "id": "XDYIP2W2ZCpE",
        "outputId": "12e63e4a-a3a3-4c71-f4aa-2cdd4cd94a92",
        "colab": {
          "base_uri": "https://localhost:8080/",
          "height": 295
        }
      },
      "source": [
        "plt.title('Top 10 popular titles in Squad dataset')\n",
        "plt.xlabel('Frequency')\n",
        "squad_data['title'].value_counts()[1:11].plot(kind='barh').invert_yaxis()"
      ],
      "execution_count": 29,
      "outputs": [
        {
          "output_type": "display_data",
          "data": {
            "image/png": "[encoded data removed]",
            "text/plain": [
              "<Figure size 432x288 with 1 Axes>"
            ]
          },
          "metadata": {
            "tags": [],
            "needs_background": "light"
          }
        }
      ]
    },
    {
      "cell_type": "code",
      "metadata": {
        "id": "EIJiG3jfZJBd",
        "outputId": "c781e0ec-e8d2-4042-f3ba-385a24f0f1be",
        "colab": {
          "base_uri": "https://localhost:8080/",
          "height": 313
        }
      },
      "source": [
        "plt.title('Length of question (Zalo)')\n",
        "plt.xlabel('Length')\n",
        "zalo_data['question'].str.split(' ').str.len().plot.hist(xlim=(0, 25), bins=20)"
      ],
      "execution_count": 30,
      "outputs": [
        {
          "output_type": "execute_result",
          "data": {
            "text/plain": [
              "<matplotlib.axes._subplots.AxesSubplot at 0x7f231185a3c8>"
            ]
          },
          "metadata": {
            "tags": []
          },
          "execution_count": 30
        },
        {
          "output_type": "display_data",
          "data": {
            "image/png": "[encoded data removed]",
            "text/plain": [
              "<Figure size 432x288 with 1 Axes>"
            ]
          },
          "metadata": {
            "tags": [],
            "needs_background": "light"
          }
        }
      ]
    },
    {
      "cell_type": "code",
      "metadata": {
        "id": "j6uZqz0eZV2A"
      },
      "source": [
        "# import tokenizing\n",
        "# plt.title('Length of question in tokens (Zalo)')\n",
        "# plt.xlabel('Length')\n",
        "# zalo_data['question'].apply(tokenizing.tokenize).str.len().plot.hist(xlim=(0, 25), bins=20)"
      ],
      "execution_count": null,
      "outputs": []
    },
    {
      "cell_type": "code",
      "metadata": {
        "id": "wuDEQv6uZYm8",
        "outputId": "b7e5e227-e043-4e37-ecab-31e2542b2ac8",
        "colab": {
          "base_uri": "https://localhost:8080/",
          "height": 313
        }
      },
      "source": [
        "plt.title('Length of question (SquadVN)')\n",
        "plt.xlabel('Length')\n",
        "squad_vn_data['question'].str.split(' ').str.len().plot.hist(xlim=(0, 30), bins=20)"
      ],
      "execution_count": 32,
      "outputs": [
        {
          "output_type": "execute_result",
          "data": {
            "text/plain": [
              "<matplotlib.axes._subplots.AxesSubplot at 0x7f2312d481d0>"
            ]
          },
          "metadata": {
            "tags": []
          },
          "execution_count": 32
        },
        {
          "output_type": "display_data",
          "data": {
            "image/png": "[encoded data removed]",
            "text/plain": [
              "<Figure size 432x288 with 1 Axes>"
            ]
          },
          "metadata": {
            "tags": [],
            "needs_background": "light"
          }
        }
      ]
    },
    {
      "cell_type": "code",
      "metadata": {
        "id": "iThLI5YeZcz2",
        "outputId": "a026f541-5536-4fd9-9bcb-ee75d52c00d6",
        "colab": {
          "base_uri": "https://localhost:8080/",
          "height": 313
        }
      },
      "source": [
        "plt.title('Length of question (Squad)')\n",
        "plt.xlabel('Length')\n",
        "squad_data['question'].str.split(' ').str.len().plot.hist(xlim=(0, 40), bins=20)"
      ],
      "execution_count": 33,
      "outputs": [
        {
          "output_type": "execute_result",
          "data": {
            "text/plain": [
              "<matplotlib.axes._subplots.AxesSubplot at 0x7f231183edd8>"
            ]
          },
          "metadata": {
            "tags": []
          },
          "execution_count": 33
        },
        {
          "output_type": "display_data",
          "data": {
            "image/png": "[encoded data removed]",
            "text/plain": [
              "<Figure size 432x288 with 1 Axes>"
            ]
          },
          "metadata": {
            "tags": [],
            "needs_background": "light"
          }
        }
      ]
    },
    {
      "cell_type": "code",
      "metadata": {
        "id": "hJvMz16_Zh2P",
        "outputId": "35fa3024-a4f8-4d1a-b0a9-eb182ac9da36",
        "colab": {
          "base_uri": "https://localhost:8080/",
          "height": 281
        }
      },
      "source": [
        "question_len = pd.Series({'Zalo': zalo_data['question'].str.split(' ').str.len().mean(),\n",
        "                          'SquadVN': squad_vn_data['question'].str.split(' ').str.len().mean(),\n",
        "                          'Squad': squad_data['question'].str.split(' ').str.len().mean()})\n",
        "plt.title('Length of question')\n",
        "question_len.plot(kind='barh').invert_yaxis()"
      ],
      "execution_count": 34,
      "outputs": [
        {
          "output_type": "display_data",
          "data": {
            "image/png": "[encoded data removed]",
            "text/plain": [
              "<Figure size 432x288 with 1 Axes>"
            ]
          },
          "metadata": {
            "tags": [],
            "needs_background": "light"
          }
        }
      ]
    },
    {
      "cell_type": "code",
      "metadata": {
        "id": "FZXMNKAeZkIG",
        "outputId": "aefc6062-a0d3-41ab-dca3-5126d5da68e5",
        "colab": {
          "base_uri": "https://localhost:8080/",
          "height": 313
        }
      },
      "source": [
        "plt.title('Length of paragraph (Zalo)')\n",
        "plt.xlabel('Length')\n",
        "zalo_data['text'].str.split(' ').str.len().plot.hist(xlim=(0, 300), bins=100)"
      ],
      "execution_count": 35,
      "outputs": [
        {
          "output_type": "execute_result",
          "data": {
            "text/plain": [
              "<matplotlib.axes._subplots.AxesSubplot at 0x7f231199c128>"
            ]
          },
          "metadata": {
            "tags": []
          },
          "execution_count": 35
        },
        {
          "output_type": "display_data",
          "data": {
            "image/png": "[encoded data removed]",
            "text/plain": [
              "<Figure size 432x288 with 1 Axes>"
            ]
          },
          "metadata": {
            "tags": [],
            "needs_background": "light"
          }
        }
      ]
    },
    {
      "cell_type": "code",
      "metadata": {
        "id": "KXx0Jx7mZmjk"
      },
      "source": [
        "# plt.title('Length of paragraph in tokens')\n",
        "# plt.xlabel('Length')\n",
        "# zalo_data['text'].apply(tokenizing.tokenize).str.len().plot.hist(xlim=(0, 300), bins=100)"
      ],
      "execution_count": 37,
      "outputs": []
    },
    {
      "cell_type": "code",
      "metadata": {
        "id": "wax30MHmZtcw",
        "outputId": "2de4e944-6590-41d5-af7c-409414dbd5b7",
        "colab": {
          "base_uri": "https://localhost:8080/",
          "height": 313
        }
      },
      "source": [
        "plt.title('Length of paragraph (SquadVN)')\n",
        "plt.xlabel('Length')\n",
        "squad_vn_data['text'].str.split(' ').str.len().plot.hist(xlim=(0, 700), bins=100)"
      ],
      "execution_count": 38,
      "outputs": [
        {
          "output_type": "execute_result",
          "data": {
            "text/plain": [
              "<matplotlib.axes._subplots.AxesSubplot at 0x7f23112d09b0>"
            ]
          },
          "metadata": {
            "tags": []
          },
          "execution_count": 38
        },
        {
          "output_type": "display_data",
          "data": {
            "image/png": "[encoded data removed]",
            "text/plain": [
              "<Figure size 432x288 with 1 Axes>"
            ]
          },
          "metadata": {
            "tags": [],
            "needs_background": "light"
          }
        }
      ]
    },
    {
      "cell_type": "code",
      "metadata": {
        "id": "bAzcKXzkZvAD",
        "outputId": "ac0be0e8-c39e-4b5c-8bdc-1c9dd571b931",
        "colab": {
          "base_uri": "https://localhost:8080/",
          "height": 313
        }
      },
      "source": [
        "plt.title('Length of paragraph (Squad)')\n",
        "plt.xlabel('Length')\n",
        "squad_data['text'].str.split(' ').str.len().plot.hist(xlim=(0, 500), bins=100)"
      ],
      "execution_count": 39,
      "outputs": [
        {
          "output_type": "execute_result",
          "data": {
            "text/plain": [
              "<matplotlib.axes._subplots.AxesSubplot at 0x7f231036ab70>"
            ]
          },
          "metadata": {
            "tags": []
          },
          "execution_count": 39
        },
        {
          "output_type": "display_data",
          "data": {
            "image/png": "[encoded data removed]",
            "text/plain": [
              "<Figure size 432x288 with 1 Axes>"
            ]
          },
          "metadata": {
            "tags": [],
            "needs_background": "light"
          }
        }
      ]
    },
    {
      "cell_type": "code",
      "metadata": {
        "id": "zARANQH6Zzc0",
        "outputId": "41f28abf-80c3-49c9-81da-08a4365b61c7",
        "colab": {
          "base_uri": "https://localhost:8080/",
          "height": 281
        }
      },
      "source": [
        "paragraph_len = pd.Series({'Zalo': zalo_data['text'].str.split(' ').str.len().mean(),\n",
        "                          'SquadVN': squad_vn_data['text'].str.split(' ').str.len().mean(),\n",
        "                          'Squad': squad_data['text'].str.split(' ').str.len().mean()})\n",
        "plt.title('Length of paragraph')\n",
        "paragraph_len.plot(kind='barh').invert_yaxis()"
      ],
      "execution_count": 40,
      "outputs": [
        {
          "output_type": "display_data",
          "data": {
            "image/png": "[encoded data removed]",
            "text/plain": [
              "<Figure size 432x288 with 1 Axes>"
            ]
          },
          "metadata": {
            "tags": [],
            "needs_background": "light"
          }
        }
      ]
    },
    {
      "cell_type": "code",
      "metadata": {
        "id": "l_8MKdRPZ2wm",
        "outputId": "7f1fc117-ccf4-45b0-f2b1-04f7c007a6a3",
        "colab": {
          "base_uri": "https://localhost:8080/"
        }
      },
      "source": [
        "from google.colab import drive\n",
        "drive.mount(\"/content/drive\")"
      ],
      "execution_count": 42,
      "outputs": [
        {
          "output_type": "stream",
          "text": [
            "Mounted at /content/drive\n"
          ],
          "name": "stdout"
        }
      ]
    },
    {
      "cell_type": "code",
      "metadata": {
        "id": "gGGv4AkJfD8t",
        "outputId": "ccc7e7f6-46bd-4051-bba7-6c8203e1c3f8",
        "colab": {
          "base_uri": "https://localhost:8080/",
          "height": 210
        }
      },
      "source": [
        ""
      ],
      "execution_count": 44,
      "outputs": [
        {
          "output_type": "error",
          "ename": "AttributeError",
          "evalue": "ignored",
          "traceback": [
            "\u001b[0;31m---------------------------------------------------------------------------\u001b[0m",
            "\u001b[0;31mAttributeError\u001b[0m                            Traceback (most recent call last)",
            "\u001b[0;32m<ipython-input-44-cdeae4c437f0>\u001b[0m in \u001b[0;36m<module>\u001b[0;34m()\u001b[0m\n\u001b[1;32m      3\u001b[0m   \u001b[0minp\u001b[0m \u001b[0;34m=\u001b[0m \u001b[0mjson\u001b[0m\u001b[0;34m.\u001b[0m\u001b[0mload\u001b[0m\u001b[0;34m(\u001b[0m\u001b[0mfile\u001b[0m\u001b[0;34m)\u001b[0m\u001b[0;34m\u001b[0m\u001b[0;34m\u001b[0m\u001b[0m\n\u001b[1;32m      4\u001b[0m \u001b[0;34m\u001b[0m\u001b[0m\n\u001b[0;32m----> 5\u001b[0;31m \u001b[0mpd\u001b[0m\u001b[0;34m.\u001b[0m\u001b[0mto_csv\u001b[0m\u001b[0;34m(\u001b[0m\u001b[0minp\u001b[0m\u001b[0;34m)\u001b[0m\u001b[0;34m\u001b[0m\u001b[0;34m\u001b[0m\u001b[0m\n\u001b[0m",
            "\u001b[0;31mAttributeError\u001b[0m: module 'pandas' has no attribute 'to_csv'"
          ]
        }
      ]
    }
  ]
}