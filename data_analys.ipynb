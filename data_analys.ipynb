{
  "nbformat": 4,
  "nbformat_minor": 0,
  "metadata": {
    "colab": {
      "name": "data_analys.ipynb",
      "provenance": []
    },
    "kernelspec": {
      "display_name": "Python 3",
      "language": "python",
      "name": "python3"
    },
    "language_info": {
      "codemirror_mode": {
        "name": "ipython",
        "version": 3
      },
      "file_extension": ".py",
      "mimetype": "text/x-python",
      "name": "python",
      "nbconvert_exporter": "python",
      "pygments_lexer": "ipython3",
      "version": "3.9.0"
    }
  },
  "cells": [
    {
      "cell_type": "code",
      "metadata": {
        "id": "iwvh-d9RjHZQ"
      },
      "source": [
        "import numpy as np\n",
        "import pandas as pd\n",
        "import seaborn as sns\n",
        "import matplotlib.pyplot as plt\n",
        "from utils import data_loading"
      ],
      "execution_count": 4,
      "outputs": []
    },
    {
      "cell_type": "code",
      "metadata": {
        "id": "GkH6cxqmVOyV",
        "outputId": "24120ae1-a114-47d0-f90c-8c741163bc74",
        "colab": {
          "base_uri": "https://localhost:8080/"
        }
      },
      "source": [
        "# !git clone https://github.com/leanhduc123/NLP_Zalo_QA.git zaloqa \n",
        "# %cd zaloqa"
      ],
      "execution_count": 1,
      "outputs": [
        {
          "output_type": "stream",
          "text": [
            "Cloning into 'zaloqa'...\n",
            "remote: Enumerating objects: 34, done.\u001b[K\n",
            "remote: Counting objects: 100% (34/34), done.\u001b[K\n",
            "remote: Compressing objects: 100% (21/21), done.\u001b[K\n",
            "remote: Total 34 (delta 11), reused 34 (delta 11), pack-reused 0\u001b[K\n",
            "Unpacking objects: 100% (34/34), done.\n",
            "Checking out files: 100% (27/27), done.\n"
          ],
          "name": "stdout"
        }
      ]
    },
    {
      "cell_type": "code",
      "metadata": {
        "id": "xMZzXYErVD3i",
        "outputId": "6b9198a8-b380-446e-e3f8-ec579a6588fe",
        "colab": {
          "base_uri": "https://localhost:8080/",
          "height": 424
        }
      },
      "source": [
        "zalo_loader = data_loading.ZaloLoader()\n",
        "zalo_data = zalo_loader.read_csv(\"data/train.csv\")\n",
        "zalo_data = pd.read_csv(\"data/test.csv\")\n",
        "zalo_data"
      ],
      "execution_count": 6,
      "outputs": [
        {
          "output_type": "execute_result",
          "data": {
            "text/html": [
              "<div>\n",
              "<style scoped>\n",
              "    .dataframe tbody tr th:only-of-type {\n",
              "        vertical-align: middle;\n",
              "    }\n",
              "\n",
              "    .dataframe tbody tr th {\n",
              "        vertical-align: top;\n",
              "    }\n",
              "\n",
              "    .dataframe thead th {\n",
              "        text-align: right;\n",
              "    }\n",
              "</style>\n",
              "<table border=\"1\" class=\"dataframe\">\n",
              "  <thead>\n",
              "    <tr style=\"text-align: right;\">\n",
              "      <th></th>\n",
              "      <th>__id__</th>\n",
              "      <th>question</th>\n",
              "      <th>title</th>\n",
              "      <th>paragraphs</th>\n",
              "    </tr>\n",
              "  </thead>\n",
              "  <tbody>\n",
              "    <tr>\n",
              "      <th>0</th>\n",
              "      <td>test_0001</td>\n",
              "      <td>Toà nhà nào cao nhất Việt Nam</td>\n",
              "      <td>The Landmark 81</td>\n",
              "      <td>p1|The Landmark 81 là một toà nhà chọc trời tr...</td>\n",
              "    </tr>\n",
              "    <tr>\n",
              "      <th>1</th>\n",
              "      <td>test_0002</td>\n",
              "      <td>Messi thuận chân nào</td>\n",
              "      <td>Lionel Messi</td>\n",
              "      <td>p1|Đôi chân ngắn nhưng mạnh mẽ giúp Messi dễ d...</td>\n",
              "    </tr>\n",
              "    <tr>\n",
              "      <th>2</th>\n",
              "      <td>test_0003</td>\n",
              "      <td>Sao Hoả còn được gọi là gì</td>\n",
              "      <td>Sao Hỏa</td>\n",
              "      <td>p1|Sao Hoả còn gọi là : Hoả Tinh , ( Tiếng Anh...</td>\n",
              "    </tr>\n",
              "    <tr>\n",
              "      <th>3</th>\n",
              "      <td>test_0004</td>\n",
              "      <td>Hồ Hoàn Kiếm nằm ở đâu</td>\n",
              "      <td>Hồ Hoàn Kiếm</td>\n",
              "      <td>p1|Hồ Hoàn Kiếm ( chữ Nôm : 湖還劍 hoặc 還劍湖 ) còn...</td>\n",
              "    </tr>\n",
              "    <tr>\n",
              "      <th>4</th>\n",
              "      <td>test_0005</td>\n",
              "      <td>Lionel Messi sinh ra ở đâu</td>\n",
              "      <td>Lionel Messi</td>\n",
              "      <td>p1|Lionel Andrés \" Leo \" Messi Cuccittini ( ; ...</td>\n",
              "    </tr>\n",
              "    <tr>\n",
              "      <th>...</th>\n",
              "      <td>...</td>\n",
              "      <td>...</td>\n",
              "      <td>...</td>\n",
              "      <td>...</td>\n",
              "    </tr>\n",
              "    <tr>\n",
              "      <th>496</th>\n",
              "      <td>test_0497</td>\n",
              "      <td>Đất nước Việt Nam hoàn toàn giải phóng vào năm...</td>\n",
              "      <td>Chia cắt Việt Nam</td>\n",
              "      <td>p1|Sự chia cắt Việt Nam được hiểu là sự cát cứ...</td>\n",
              "    </tr>\n",
              "    <tr>\n",
              "      <th>497</th>\n",
              "      <td>test_0498</td>\n",
              "      <td>Ông già noel xuất hiện đầu tiên ở nước nào</td>\n",
              "      <td>Ông già Noel</td>\n",
              "      <td>p1|Ngày nay , người ta chấp nhận Ông già Noel ...</td>\n",
              "    </tr>\n",
              "    <tr>\n",
              "      <th>498</th>\n",
              "      <td>test_0499</td>\n",
              "      <td>Ai là người phát minh ra máy rút tiền ATM?</td>\n",
              "      <td>Máy rút tiền tự động</td>\n",
              "      <td>p3|Khi bằng phát minh của máy ATM mà ta biết c...</td>\n",
              "    </tr>\n",
              "    <tr>\n",
              "      <th>499</th>\n",
              "      <td>test_0500</td>\n",
              "      <td>con sông dài nhất trên thế giới ở nước nào</td>\n",
              "      <td>Sông Amazon</td>\n",
              "      <td>p1|Sông Amazon ( tiếng Tây Ban Nha : \" Río Ama...</td>\n",
              "    </tr>\n",
              "    <tr>\n",
              "      <th>500</th>\n",
              "      <td>test_0501</td>\n",
              "      <td>Tuần lễ cấp cao APEC 2017 diễn ra tại tỉnh thà...</td>\n",
              "      <td>APEC Việt Nam 2017</td>\n",
              "      <td>p1|APEC Việt Nam 2017  là loạt hội nghị trong ...</td>\n",
              "    </tr>\n",
              "  </tbody>\n",
              "</table>\n",
              "<p>501 rows × 4 columns</p>\n",
              "</div>"
            ],
            "text/plain": [
              "        __id__  ...                                         paragraphs\n",
              "0    test_0001  ...  p1|The Landmark 81 là một toà nhà chọc trời tr...\n",
              "1    test_0002  ...  p1|Đôi chân ngắn nhưng mạnh mẽ giúp Messi dễ d...\n",
              "2    test_0003  ...  p1|Sao Hoả còn gọi là : Hoả Tinh , ( Tiếng Anh...\n",
              "3    test_0004  ...  p1|Hồ Hoàn Kiếm ( chữ Nôm : 湖還劍 hoặc 還劍湖 ) còn...\n",
              "4    test_0005  ...  p1|Lionel Andrés \" Leo \" Messi Cuccittini ( ; ...\n",
              "..         ...  ...                                                ...\n",
              "496  test_0497  ...  p1|Sự chia cắt Việt Nam được hiểu là sự cát cứ...\n",
              "497  test_0498  ...  p1|Ngày nay , người ta chấp nhận Ông già Noel ...\n",
              "498  test_0499  ...  p3|Khi bằng phát minh của máy ATM mà ta biết c...\n",
              "499  test_0500  ...  p1|Sông Amazon ( tiếng Tây Ban Nha : \" Río Ama...\n",
              "500  test_0501  ...  p1|APEC Việt Nam 2017  là loạt hội nghị trong ...\n",
              "\n",
              "[501 rows x 4 columns]"
            ]
          },
          "metadata": {
            "tags": []
          },
          "execution_count": 6
        }
      ]
    }
  ]
}